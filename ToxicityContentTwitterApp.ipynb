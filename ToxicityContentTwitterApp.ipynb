{
  "nbformat": 4,
  "nbformat_minor": 0,
  "metadata": {
    "colab": {
      "name": "ToxicityContentTwitterApp.ipynb",
      "provenance": [],
      "collapsed_sections": [],
      "authorship_tag": "ABX9TyMLBxDaOaxWb3rpkv8vgf49",
      "include_colab_link": true
    },
    "kernelspec": {
      "name": "python3",
      "display_name": "Python 3"
    }
  },
  "cells": [
    {
      "cell_type": "markdown",
      "metadata": {
        "id": "view-in-github",
        "colab_type": "text"
      },
      "source": [
        "<a href=\"https://colab.research.google.com/github/codefinite-vri/CodersWeek-ML/blob/master/ToxicityContentTwitterApp.ipynb\" target=\"_parent\"><img src=\"https://colab.research.google.com/assets/colab-badge.svg\" alt=\"Open In Colab\"/></a>"
      ]
    },
    {
      "cell_type": "markdown",
      "metadata": {
        "id": "S0PorumdH-6b",
        "colab_type": "text"
      },
      "source": [
        "# STARTING WITH TWITTER BASED SENTIMENTAL ANALYSIS"
      ]
    },
    {
      "cell_type": "markdown",
      "metadata": {
        "id": "asP4VB7kIFID",
        "colab_type": "text"
      },
      "source": [
        "1) Create a Twitter Developer Account\n",
        "\n",
        "2) Create a new app.\n",
        "\n"
      ]
    },
    {
      "cell_type": "markdown",
      "metadata": {
        "id": "H7YV1xgHH0j8",
        "colab_type": "text"
      },
      "source": [
        "# STORE THE PRIVATE TOKEN AND CONSUMER KEYS AND SECRET KEYS"
      ]
    },
    {
      "cell_type": "code",
      "metadata": {
        "id": "GoAsbrLg0Q5i",
        "colab_type": "code",
        "colab": {}
      },
      "source": [
        "#Variables containing user credentials to access Twitter API\n",
        "ACCESS_TOKEN = \"\"\n",
        "ACCESS_TOKEN_SECRET = \"\"\n",
        "CONSUMER_KEY = \"\"\n",
        "CONSUMER_SECRET = \"\""
      ],
      "execution_count": 0,
      "outputs": []
    },
    {
      "cell_type": "markdown",
      "metadata": {
        "id": "WwW7NTeNH7LJ",
        "colab_type": "text"
      },
      "source": [
        "# INSTALLING TWEEPY"
      ]
    },
    {
      "cell_type": "code",
      "metadata": {
        "id": "aV78CRsd1EXg",
        "colab_type": "code",
        "outputId": "1ef4b105-d8c7-41b2-c234-2ff63ad248cc",
        "colab": {
          "base_uri": "https://localhost:8080/"
        }
      },
      "source": [
        "pip install tweepy"
      ],
      "execution_count": 21,
      "outputs": [
        {
          "output_type": "stream",
          "text": [
            "Requirement already satisfied: tweepy in /usr/local/lib/python3.6/dist-packages (3.6.0)\n",
            "Requirement already satisfied: PySocks>=1.5.7 in /usr/local/lib/python3.6/dist-packages (from tweepy) (1.7.1)\n",
            "Requirement already satisfied: six>=1.10.0 in /usr/local/lib/python3.6/dist-packages (from tweepy) (1.12.0)\n",
            "Requirement already satisfied: requests-oauthlib>=0.7.0 in /usr/local/lib/python3.6/dist-packages (from tweepy) (1.3.0)\n",
            "Requirement already satisfied: requests>=2.11.1 in /usr/local/lib/python3.6/dist-packages (from tweepy) (2.23.0)\n",
            "Requirement already satisfied: oauthlib>=3.0.0 in /usr/local/lib/python3.6/dist-packages (from requests-oauthlib>=0.7.0->tweepy) (3.1.0)\n",
            "Requirement already satisfied: certifi>=2017.4.17 in /usr/local/lib/python3.6/dist-packages (from requests>=2.11.1->tweepy) (2020.4.5.1)\n",
            "Requirement already satisfied: idna<3,>=2.5 in /usr/local/lib/python3.6/dist-packages (from requests>=2.11.1->tweepy) (2.9)\n",
            "Requirement already satisfied: urllib3!=1.25.0,!=1.25.1,<1.26,>=1.21.1 in /usr/local/lib/python3.6/dist-packages (from requests>=2.11.1->tweepy) (1.24.3)\n",
            "Requirement already satisfied: chardet<4,>=3.0.2 in /usr/local/lib/python3.6/dist-packages (from requests>=2.11.1->tweepy) (3.0.4)\n"
          ],
          "name": "stdout"
        }
      ]
    },
    {
      "cell_type": "markdown",
      "metadata": {
        "id": "MptXfa4sIOjn",
        "colab_type": "text"
      },
      "source": [
        "# Importing necessary libraries"
      ]
    },
    {
      "cell_type": "code",
      "metadata": {
        "id": "WoK_JEKp1LRo",
        "colab_type": "code",
        "colab": {}
      },
      "source": [
        "from tweepy.streaming import StreamListener\n",
        "from tweepy import OAuthHandler\n",
        "from tweepy import Stream"
      ],
      "execution_count": 0,
      "outputs": []
    },
    {
      "cell_type": "markdown",
      "metadata": {
        "id": "Agl9yy6KISxh",
        "colab_type": "text"
      },
      "source": [
        "# Streaming Tweets"
      ]
    },
    {
      "cell_type": "code",
      "metadata": {
        "id": "d5_5iFPP1ZJd",
        "colab_type": "code",
        "colab": {}
      },
      "source": [
        "class TwitterStreamer():\n",
        "  def stream_tweets(self, fetched_tweets_filename, hash_tag_list):\n",
        "    listener = StdOutListener()\n",
        "    auth=OAuthHandler(CONSUMER_KEY, CONSUMER_SECRET)\n",
        "    auth.set_access_token(ACCESS_TOKEN, ACCESS_TOKEN_SECRET)\n",
        "    stream = Stream(auth, listener)\n",
        "    stream.filter(track=hash_tag_list)\n",
        "\n",
        "class StdOutListener(StreamListener):\n",
        "  def on_data(self, data):\n",
        "    try:\n",
        "      print(data)\n",
        "      with open(self.fetched_tweets_filename, 'a') as tf:\n",
        "        tf.write(data)\n",
        "      return True\n",
        "    except BaseException as e:\n",
        "      print(\"Error_on_data %s\" % str(e))\n",
        "    return True\n",
        "  def on_error(self, status):\n",
        "    print(status)\n",
        "\n",
        "if __name__ == \"__main__\":\n",
        "  hash_tag_list=['covid19', 'lockdown', 'quarantine']\n",
        "  fetched_tweets_filename = \"tweets.txt\"\n",
        "  twitter_streamer = TwitterStreamer()\n",
        "  twitter_streamer.stream_tweets(fetched_tweets_filename, hash_tag_list)"
      ],
      "execution_count": 0,
      "outputs": []
    },
    {
      "cell_type": "markdown",
      "metadata": {
        "id": "LaiovJLxIcLs",
        "colab_type": "text"
      },
      "source": [
        "# CURSOR AND PAGINATION"
      ]
    },
    {
      "cell_type": "markdown",
      "metadata": {
        "id": "nazkZskPKHp2",
        "colab_type": "text"
      },
      "source": [
        "Importing necessary libraries"
      ]
    },
    {
      "cell_type": "code",
      "metadata": {
        "id": "i3ptKq3hIrNN",
        "colab_type": "code",
        "colab": {}
      },
      "source": [
        "from tweepy import API \n",
        "from tweepy import Cursor"
      ],
      "execution_count": 0,
      "outputs": []
    },
    {
      "cell_type": "code",
      "metadata": {
        "id": "zfdBmmVzBUj3",
        "colab_type": "code",
        "colab": {
          "base_uri": "https://localhost:8080/",
          "height": 55
        },
        "outputId": "1f349684-5034-46b8-98b3-f74bb5e626cd"
      },
      "source": [
        "class TwitterClient():\n",
        "\n",
        "  def __init__(self, twitter_user=None):\n",
        "    self.auth = TwitterAuthenticator().authenticate_twitter_app()\n",
        "    self.twitter_client = API(self.auth)\n",
        "    self.twitter_user = twitter_user\n",
        "\n",
        "  def get_user_timeline_tweets(self, num_tweets):\n",
        "    tweets = []\n",
        "    for tweet in Cursor(self.twitter_client.user_timeline, id=self.twitter_user).items(num_tweets):\n",
        "      tweets.append(tweet)\n",
        "    return tweets\n",
        "  \n",
        "  def get_friend_list(self, num_friends):\n",
        "    friend_list = []\n",
        "    for friend in Cursor(self.twitter_client.friends, id=self.twitter_user).items(num_friends):\n",
        "      friend_list.append(friend)\n",
        "    return friend_list\n",
        "  \n",
        "  def get_home_timeline_tweets(self, num_tweets):\n",
        "    home_timeline_tweets = []\n",
        "    for tweet in Cursor(self.twitter_client.home_timeline, id=self.twitter_user).items(num_tweets):\n",
        "      home_timeline_tweets.append(tweet)\n",
        "    return home_timeline_tweets\n",
        "\n",
        "class TwitterAuthenticator():\n",
        "  def authenticate_twitter_app(self):\n",
        "    auth = OAuthHandler(CONSUMER_KEY, CONSUMER_SECRET)\n",
        "    auth.set_access_token(ACCESS_TOKEN, ACCESS_TOKEN_SECRET)\n",
        "    return auth\n",
        "\n",
        "class TwitterStreamer():\n",
        "  def __init__(self):\n",
        "    self.twitter_autenticator = TwitterAuthenticator()  \n",
        "\n",
        "  def stream_tweets(self, fetched_tweets_filename, hash_tag_list):\n",
        "    listener = TwitterListener(fetched_tweets_filename)\n",
        "    auth = self.twitter_autenticator.authenticate_twitter_app() \n",
        "    stream = Stream(auth, listener)\n",
        "    stream.filter(track=hash_tag_list)\n",
        "\n",
        "class TwitterListener(StreamListener):\n",
        "  def __init__(self, fetched_tweets_filename):\n",
        "    self.fetched_tweets_filename = fetched_tweets_filename\n",
        "\n",
        "  def on_data(self, data):\n",
        "    try:\n",
        "      print(data)\n",
        "      with open(self.fetched_tweets_filename, 'a') as tf:\n",
        "        tf.write(data)\n",
        "      return True\n",
        "    except BaseException as e:\n",
        "      print(\"Error on_data %s\" % str(e))\n",
        "    return True\n",
        "  \n",
        "  def on_error(self, status):\n",
        "    if status == 420:\n",
        "      return False\n",
        "    print(status)\n",
        "    \n",
        "if __name__ == '__main__':\n",
        "  hash_tag_list = ['covid19', 'lockdown', 'quarantine']\n",
        "  fetched_tweets_filename = \"tweets.txt\"\n",
        "  twitter_client = TwitterClient('SunoIndia_in')\n",
        "  print(twitter_client.get_user_timeline_tweets(1))"
      ],
      "execution_count": 18,
      "outputs": [
        {
          "output_type": "stream",
          "text": [
            "[Status(_api=<tweepy.api.API object at 0x7fd3a1c0c668>, _json={'created_at': 'Sun Jun 07 04:30:12 +0000 2020', 'id': 1269486794577448961, 'id_str': '1269486794577448961', 'text': 'Looking for India’s #COVID19 coverage?\\n\\nTune in to our exclusive episodes of #TheSunoIndiaShow on #COVID19Outbreak… https://t.co/6zVhzwCBCI', 'truncated': True, 'entities': {'hashtags': [{'text': 'COVID19', 'indices': [20, 28]}, {'text': 'TheSunoIndiaShow', 'indices': [77, 94]}, {'text': 'COVID19Outbreak', 'indices': [98, 114]}], 'symbols': [], 'user_mentions': [], 'urls': [{'url': 'https://t.co/6zVhzwCBCI', 'expanded_url': 'https://twitter.com/i/web/status/1269486794577448961', 'display_url': 'twitter.com/i/web/status/1…', 'indices': [116, 139]}]}, 'source': '<a href=\"https://buffer.com\" rel=\"nofollow\">Buffer</a>', 'in_reply_to_status_id': None, 'in_reply_to_status_id_str': None, 'in_reply_to_user_id': None, 'in_reply_to_user_id_str': None, 'in_reply_to_screen_name': None, 'user': {'id': 959692254075121664, 'id_str': '959692254075121664', 'name': 'SunoIndia', 'screen_name': 'SunoIndia_in', 'location': 'India', 'description': 'A digital media (podcast only) platform for issues that matter. Follow our #COVID19 coverage: https://t.co/iPQ5KkwOqQ…', 'url': 'https://t.co/udgm7E1f2o', 'entities': {'url': {'urls': [{'url': 'https://t.co/udgm7E1f2o', 'expanded_url': 'https://www.sunoindia.in/support/', 'display_url': 'sunoindia.in/support/', 'indices': [0, 23]}]}, 'description': {'urls': [{'url': 'https://t.co/iPQ5KkwOqQ', 'expanded_url': 'http://sunoindia.in/covid-19-outbr', 'display_url': 'sunoindia.in/covid-19-outbr', 'indices': [94, 117]}]}}, 'protected': False, 'followers_count': 2790, 'friends_count': 1017, 'listed_count': 11, 'created_at': 'Sat Feb 03 07:37:18 +0000 2018', 'favourites_count': 2135, 'utc_offset': None, 'time_zone': None, 'geo_enabled': False, 'verified': False, 'statuses_count': 2582, 'lang': None, 'contributors_enabled': False, 'is_translator': False, 'is_translation_enabled': False, 'profile_background_color': '000000', 'profile_background_image_url': 'http://abs.twimg.com/images/themes/theme1/bg.png', 'profile_background_image_url_https': 'https://abs.twimg.com/images/themes/theme1/bg.png', 'profile_background_tile': False, 'profile_image_url': 'http://pbs.twimg.com/profile_images/1121019359521116161/wH2eVI70_normal.jpg', 'profile_image_url_https': 'https://pbs.twimg.com/profile_images/1121019359521116161/wH2eVI70_normal.jpg', 'profile_banner_url': 'https://pbs.twimg.com/profile_banners/959692254075121664/1556107103', 'profile_link_color': 'BE4743', 'profile_sidebar_border_color': '000000', 'profile_sidebar_fill_color': '000000', 'profile_text_color': '000000', 'profile_use_background_image': False, 'has_extended_profile': False, 'default_profile': False, 'default_profile_image': False, 'following': False, 'follow_request_sent': False, 'notifications': False, 'translator_type': 'none'}, 'geo': None, 'coordinates': None, 'place': None, 'contributors': None, 'is_quote_status': False, 'retweet_count': 0, 'favorite_count': 0, 'favorited': False, 'retweeted': False, 'possibly_sensitive': False, 'lang': 'en'}, created_at=datetime.datetime(2020, 6, 7, 4, 30, 12), id=1269486794577448961, id_str='1269486794577448961', text='Looking for India’s #COVID19 coverage?\\n\\nTune in to our exclusive episodes of #TheSunoIndiaShow on #COVID19Outbreak… https://t.co/6zVhzwCBCI', truncated=True, entities={'hashtags': [{'text': 'COVID19', 'indices': [20, 28]}, {'text': 'TheSunoIndiaShow', 'indices': [77, 94]}, {'text': 'COVID19Outbreak', 'indices': [98, 114]}], 'symbols': [], 'user_mentions': [], 'urls': [{'url': 'https://t.co/6zVhzwCBCI', 'expanded_url': 'https://twitter.com/i/web/status/1269486794577448961', 'display_url': 'twitter.com/i/web/status/1…', 'indices': [116, 139]}]}, source='Buffer', source_url='https://buffer.com', in_reply_to_status_id=None, in_reply_to_status_id_str=None, in_reply_to_user_id=None, in_reply_to_user_id_str=None, in_reply_to_screen_name=None, author=User(_api=<tweepy.api.API object at 0x7fd3a1c0c668>, _json={'id': 959692254075121664, 'id_str': '959692254075121664', 'name': 'SunoIndia', 'screen_name': 'SunoIndia_in', 'location': 'India', 'description': 'A digital media (podcast only) platform for issues that matter. Follow our #COVID19 coverage: https://t.co/iPQ5KkwOqQ…', 'url': 'https://t.co/udgm7E1f2o', 'entities': {'url': {'urls': [{'url': 'https://t.co/udgm7E1f2o', 'expanded_url': 'https://www.sunoindia.in/support/', 'display_url': 'sunoindia.in/support/', 'indices': [0, 23]}]}, 'description': {'urls': [{'url': 'https://t.co/iPQ5KkwOqQ', 'expanded_url': 'http://sunoindia.in/covid-19-outbr', 'display_url': 'sunoindia.in/covid-19-outbr', 'indices': [94, 117]}]}}, 'protected': False, 'followers_count': 2790, 'friends_count': 1017, 'listed_count': 11, 'created_at': 'Sat Feb 03 07:37:18 +0000 2018', 'favourites_count': 2135, 'utc_offset': None, 'time_zone': None, 'geo_enabled': False, 'verified': False, 'statuses_count': 2582, 'lang': None, 'contributors_enabled': False, 'is_translator': False, 'is_translation_enabled': False, 'profile_background_color': '000000', 'profile_background_image_url': 'http://abs.twimg.com/images/themes/theme1/bg.png', 'profile_background_image_url_https': 'https://abs.twimg.com/images/themes/theme1/bg.png', 'profile_background_tile': False, 'profile_image_url': 'http://pbs.twimg.com/profile_images/1121019359521116161/wH2eVI70_normal.jpg', 'profile_image_url_https': 'https://pbs.twimg.com/profile_images/1121019359521116161/wH2eVI70_normal.jpg', 'profile_banner_url': 'https://pbs.twimg.com/profile_banners/959692254075121664/1556107103', 'profile_link_color': 'BE4743', 'profile_sidebar_border_color': '000000', 'profile_sidebar_fill_color': '000000', 'profile_text_color': '000000', 'profile_use_background_image': False, 'has_extended_profile': False, 'default_profile': False, 'default_profile_image': False, 'following': False, 'follow_request_sent': False, 'notifications': False, 'translator_type': 'none'}, id=959692254075121664, id_str='959692254075121664', name='SunoIndia', screen_name='SunoIndia_in', location='India', description='A digital media (podcast only) platform for issues that matter. Follow our #COVID19 coverage: https://t.co/iPQ5KkwOqQ…', url='https://t.co/udgm7E1f2o', entities={'url': {'urls': [{'url': 'https://t.co/udgm7E1f2o', 'expanded_url': 'https://www.sunoindia.in/support/', 'display_url': 'sunoindia.in/support/', 'indices': [0, 23]}]}, 'description': {'urls': [{'url': 'https://t.co/iPQ5KkwOqQ', 'expanded_url': 'http://sunoindia.in/covid-19-outbr', 'display_url': 'sunoindia.in/covid-19-outbr', 'indices': [94, 117]}]}}, protected=False, followers_count=2790, friends_count=1017, listed_count=11, created_at=datetime.datetime(2018, 2, 3, 7, 37, 18), favourites_count=2135, utc_offset=None, time_zone=None, geo_enabled=False, verified=False, statuses_count=2582, lang=None, contributors_enabled=False, is_translator=False, is_translation_enabled=False, profile_background_color='000000', profile_background_image_url='http://abs.twimg.com/images/themes/theme1/bg.png', profile_background_image_url_https='https://abs.twimg.com/images/themes/theme1/bg.png', profile_background_tile=False, profile_image_url='http://pbs.twimg.com/profile_images/1121019359521116161/wH2eVI70_normal.jpg', profile_image_url_https='https://pbs.twimg.com/profile_images/1121019359521116161/wH2eVI70_normal.jpg', profile_banner_url='https://pbs.twimg.com/profile_banners/959692254075121664/1556107103', profile_link_color='BE4743', profile_sidebar_border_color='000000', profile_sidebar_fill_color='000000', profile_text_color='000000', profile_use_background_image=False, has_extended_profile=False, default_profile=False, default_profile_image=False, following=False, follow_request_sent=False, notifications=False, translator_type='none'), user=User(_api=<tweepy.api.API object at 0x7fd3a1c0c668>, _json={'id': 959692254075121664, 'id_str': '959692254075121664', 'name': 'SunoIndia', 'screen_name': 'SunoIndia_in', 'location': 'India', 'description': 'A digital media (podcast only) platform for issues that matter. Follow our #COVID19 coverage: https://t.co/iPQ5KkwOqQ…', 'url': 'https://t.co/udgm7E1f2o', 'entities': {'url': {'urls': [{'url': 'https://t.co/udgm7E1f2o', 'expanded_url': 'https://www.sunoindia.in/support/', 'display_url': 'sunoindia.in/support/', 'indices': [0, 23]}]}, 'description': {'urls': [{'url': 'https://t.co/iPQ5KkwOqQ', 'expanded_url': 'http://sunoindia.in/covid-19-outbr', 'display_url': 'sunoindia.in/covid-19-outbr', 'indices': [94, 117]}]}}, 'protected': False, 'followers_count': 2790, 'friends_count': 1017, 'listed_count': 11, 'created_at': 'Sat Feb 03 07:37:18 +0000 2018', 'favourites_count': 2135, 'utc_offset': None, 'time_zone': None, 'geo_enabled': False, 'verified': False, 'statuses_count': 2582, 'lang': None, 'contributors_enabled': False, 'is_translator': False, 'is_translation_enabled': False, 'profile_background_color': '000000', 'profile_background_image_url': 'http://abs.twimg.com/images/themes/theme1/bg.png', 'profile_background_image_url_https': 'https://abs.twimg.com/images/themes/theme1/bg.png', 'profile_background_tile': False, 'profile_image_url': 'http://pbs.twimg.com/profile_images/1121019359521116161/wH2eVI70_normal.jpg', 'profile_image_url_https': 'https://pbs.twimg.com/profile_images/1121019359521116161/wH2eVI70_normal.jpg', 'profile_banner_url': 'https://pbs.twimg.com/profile_banners/959692254075121664/1556107103', 'profile_link_color': 'BE4743', 'profile_sidebar_border_color': '000000', 'profile_sidebar_fill_color': '000000', 'profile_text_color': '000000', 'profile_use_background_image': False, 'has_extended_profile': False, 'default_profile': False, 'default_profile_image': False, 'following': False, 'follow_request_sent': False, 'notifications': False, 'translator_type': 'none'}, id=959692254075121664, id_str='959692254075121664', name='SunoIndia', screen_name='SunoIndia_in', location='India', description='A digital media (podcast only) platform for issues that matter. Follow our #COVID19 coverage: https://t.co/iPQ5KkwOqQ…', url='https://t.co/udgm7E1f2o', entities={'url': {'urls': [{'url': 'https://t.co/udgm7E1f2o', 'expanded_url': 'https://www.sunoindia.in/support/', 'display_url': 'sunoindia.in/support/', 'indices': [0, 23]}]}, 'description': {'urls': [{'url': 'https://t.co/iPQ5KkwOqQ', 'expanded_url': 'http://sunoindia.in/covid-19-outbr', 'display_url': 'sunoindia.in/covid-19-outbr', 'indices': [94, 117]}]}}, protected=False, followers_count=2790, friends_count=1017, listed_count=11, created_at=datetime.datetime(2018, 2, 3, 7, 37, 18), favourites_count=2135, utc_offset=None, time_zone=None, geo_enabled=False, verified=False, statuses_count=2582, lang=None, contributors_enabled=False, is_translator=False, is_translation_enabled=False, profile_background_color='000000', profile_background_image_url='http://abs.twimg.com/images/themes/theme1/bg.png', profile_background_image_url_https='https://abs.twimg.com/images/themes/theme1/bg.png', profile_background_tile=False, profile_image_url='http://pbs.twimg.com/profile_images/1121019359521116161/wH2eVI70_normal.jpg', profile_image_url_https='https://pbs.twimg.com/profile_images/1121019359521116161/wH2eVI70_normal.jpg', profile_banner_url='https://pbs.twimg.com/profile_banners/959692254075121664/1556107103', profile_link_color='BE4743', profile_sidebar_border_color='000000', profile_sidebar_fill_color='000000', profile_text_color='000000', profile_use_background_image=False, has_extended_profile=False, default_profile=False, default_profile_image=False, following=False, follow_request_sent=False, notifications=False, translator_type='none'), geo=None, coordinates=None, place=None, contributors=None, is_quote_status=False, retweet_count=0, favorite_count=0, favorited=False, retweeted=False, possibly_sensitive=False, lang='en')]\n"
          ],
          "name": "stdout"
        }
      ]
    },
    {
      "cell_type": "markdown",
      "metadata": {
        "id": "AIs-5HR4KCob",
        "colab_type": "text"
      },
      "source": [
        "# Analyzing Tweet Data"
      ]
    },
    {
      "cell_type": "markdown",
      "metadata": {
        "id": "noblrc6vLhqX",
        "colab_type": "text"
      },
      "source": [
        "Importing Libraries"
      ]
    },
    {
      "cell_type": "code",
      "metadata": {
        "id": "FMubfWvJLi6n",
        "colab_type": "code",
        "colab": {}
      },
      "source": [
        "import numpy as np\n",
        "import pandas as pd"
      ],
      "execution_count": 0,
      "outputs": []
    },
    {
      "cell_type": "code",
      "metadata": {
        "id": "-LgTEQxILldw",
        "colab_type": "code",
        "colab": {
          "base_uri": "https://localhost:8080/",
          "height": 243
        },
        "outputId": "77542006-b539-4812-a506-cb8c2548bba0"
      },
      "source": [
        "class TwitterClient():\n",
        "    def __init__(self, twitter_user=None):\n",
        "        self.auth = TwitterAuthenticator().authenticate_twitter_app()\n",
        "        self.twitter_client = API(self.auth)\n",
        "        self.twitter_user = twitter_user\n",
        "    def get_twitter_client_api(self):\n",
        "        return self.twitter_client\n",
        "    def get_user_timeline_tweets(self, num_tweets):\n",
        "        tweets = []\n",
        "        for tweet in Cursor(self.twitter_client.user_timeline, id=self.twitter_user).items(num_tweets):\n",
        "            tweets.append(tweet)\n",
        "        return tweets\n",
        "    def get_friend_list(self, num_friends):\n",
        "        friend_list = []\n",
        "        for friend in Cursor(self.twitter_client.friends, id=self.twitter_user).items(num_friends):\n",
        "            friend_list.append(friend)\n",
        "        return friend_list\n",
        "    def get_home_timeline_tweets(self, num_tweets):\n",
        "        home_timeline_tweets = []\n",
        "        for tweet in Cursor(self.twitter_client.home_timeline, id=self.twitter_user).items(num_tweets):\n",
        "            home_timeline_tweets.append(tweet)\n",
        "        return home_timeline_tweets\n",
        "\n",
        "class TwitterAuthenticator():\n",
        "    def authenticate_twitter_app(self):\n",
        "        auth = OAuthHandler(CONSUMER_KEY, CONSUMER_SECRET)\n",
        "        auth.set_access_token(ACCESS_TOKEN, ACCESS_TOKEN_SECRET)\n",
        "        return auth\n",
        "\n",
        "class TwitterStreamer():\n",
        "    def __init__(self):\n",
        "        self.twitter_autenticator = TwitterAuthenticator()    \n",
        "    def stream_tweets(self, fetched_tweets_filename, hash_tag_list):\n",
        "        listener = TwitterListener(fetched_tweets_filename)\n",
        "        auth = self.twitter_autenticator.authenticate_twitter_app() \n",
        "        stream = Stream(auth, listener)\n",
        "        stream.filter(track=hash_tag_list)\n",
        "\n",
        "class TwitterListener(StreamListener):\n",
        "    def __init__(self, fetched_tweets_filename):\n",
        "        self.fetched_tweets_filename = fetched_tweets_filename\n",
        "    def on_data(self, data):\n",
        "        try:\n",
        "            print(data)\n",
        "            with open(self.fetched_tweets_filename, 'a') as tf:\n",
        "                tf.write(data)\n",
        "            return True\n",
        "        except BaseException as e:\n",
        "            print(\"Error on_data %s\" % str(e))\n",
        "        return True\n",
        "    def on_error(self, status):\n",
        "        if status == 420:\n",
        "            return False\n",
        "        print(status)\n",
        "\n",
        "class TweetAnalyzer():\n",
        "    def tweets_to_data_frame(self, tweets):\n",
        "        df = pd.DataFrame(data=[tweet.text for tweet in tweets], columns=['Tweets'])\n",
        "        df['id'] = np.array([tweet.id for tweet in tweets])\n",
        "        df['len'] = np.array([len(tweet.text) for tweet in tweets])\n",
        "        df['date'] = np.array([tweet.created_at for tweet in tweets])\n",
        "        df['source'] = np.array([tweet.source for tweet in tweets])\n",
        "        df['likes'] = np.array([tweet.favorite_count for tweet in tweets])\n",
        "        df['retweets'] = np.array([tweet.retweet_count for tweet in tweets])\n",
        "        return df\n",
        "\n",
        "if __name__ == '__main__':\n",
        "    twitter_client = TwitterClient()\n",
        "    tweet_analyzer = TweetAnalyzer()\n",
        "    api = twitter_client.get_twitter_client_api()\n",
        "    tweets = api.user_timeline(screen_name=\"SunoIndia_in\", count=20)\n",
        "    df = tweet_analyzer.tweets_to_data_frame(tweets)\n",
        "    print(df.head(10))"
      ],
      "execution_count": 33,
      "outputs": [
        {
          "output_type": "stream",
          "text": [
            "                                              Tweets  ...  retweets\n",
            "0  Looking for India’s #COVID19 coverage?\\n\\nTune...  ...         0\n",
            "1  RT @McGill_TB: We collaborated with @SunoIndia...  ...         3\n",
            "2  RT @suchitrav: Thanks to @SunoIndia_in and Dr....  ...         6\n",
            "3  Hey #Podcast fanatics, looking for some podcas...  ...         3\n",
            "4  RT @priyakamal: videos of @paimadhu epidemiolo...  ...        13\n",
            "5  All lectures of the #epidemiology course by @p...  ...        21\n",
            "6  Have you caught up with the #COVID19 news alre...  ...         0\n",
            "7  RT @SunoIndia_in: Long-term ingestion of large...  ...         4\n",
            "8  It is #TimeForNature 🌱\\n\\nThis #WorldEnvironme...  ...         3\n",
            "9  [#FactFriday] Do you know the Golconda or Qutb...  ...         0\n",
            "\n",
            "[10 rows x 7 columns]\n"
          ],
          "name": "stdout"
        }
      ]
    },
    {
      "cell_type": "markdown",
      "metadata": {
        "id": "LLlfWVpAOmL5",
        "colab_type": "text"
      },
      "source": [
        "# VISUALIZING DATA"
      ]
    },
    {
      "cell_type": "markdown",
      "metadata": {
        "id": "2d1x9KA2OqRT",
        "colab_type": "text"
      },
      "source": [
        "Importing libraries"
      ]
    },
    {
      "cell_type": "code",
      "metadata": {
        "id": "xHDzxACWOpIM",
        "colab_type": "code",
        "colab": {}
      },
      "source": [
        "import matplotlib.pyplot as plt"
      ],
      "execution_count": 0,
      "outputs": []
    },
    {
      "cell_type": "code",
      "metadata": {
        "id": "S5vIdNulOr0w",
        "colab_type": "code",
        "colab": {
          "base_uri": "https://localhost:8080/",
          "height": 69
        },
        "outputId": "a44f7ba3-1231-4727-e683-7df8a512eecd"
      },
      "source": [
        "class TwitterClient():\n",
        "    def __init__(self, twitter_user=None):\n",
        "        self.auth = TwitterAuthenticator().authenticate_twitter_app()\n",
        "        self.twitter_client = API(self.auth)\n",
        "        self.twitter_user = twitter_user\n",
        "    def get_twitter_client_api(self):\n",
        "        return self.twitter_client\n",
        "    def get_user_timeline_tweets(self, num_tweets):\n",
        "        tweets = []\n",
        "        for tweet in Cursor(self.twitter_client.user_timeline, id=self.twitter_user).items(num_tweets):\n",
        "            tweets.append(tweet)\n",
        "        return tweets\n",
        "    def get_friend_list(self, num_friends):\n",
        "        friend_list = []\n",
        "        for friend in Cursor(self.twitter_client.friends, id=self.twitter_user).items(num_friends):\n",
        "            friend_list.append(friend)\n",
        "        return friend_list\n",
        "    def get_home_timeline_tweets(self, num_tweets):\n",
        "        home_timeline_tweets = []\n",
        "        for tweet in Cursor(self.twitter_client.home_timeline, id=self.twitter_user).items(num_tweets):\n",
        "            home_timeline_tweets.append(tweet)\n",
        "        return home_timeline_tweets\n",
        "\n",
        "class TwitterAuthenticator():\n",
        "    def authenticate_twitter_app(self):\n",
        "        auth = OAuthHandler(CONSUMER_KEY, CONSUMER_SECRET)\n",
        "        auth.set_access_token(ACCESS_TOKEN, ACCESS_TOKEN_SECRET)\n",
        "        return auth\n",
        "\n",
        "class TwitterStreamer():\n",
        "    def __init__(self):\n",
        "        self.twitter_autenticator = TwitterAuthenticator()  \n",
        "    def stream_tweets(self, fetched_tweets_filename, hash_tag_list):\n",
        "        listener = TwitterListener(fetched_tweets_filename)\n",
        "        auth = self.twitter_autenticator.authenticate_twitter_app() \n",
        "        stream = Stream(auth, listener)\n",
        "        stream.filter(track=hash_tag_list)\n",
        "\n",
        "class TwitterListener(StreamListener):\n",
        "    def __init__(self, fetched_tweets_filename):\n",
        "        self.fetched_tweets_filename = fetched_tweets_filename\n",
        "    def on_data(self, data):\n",
        "        try:\n",
        "            print(data)\n",
        "            with open(self.fetched_tweets_filename, 'a') as tf:\n",
        "                tf.write(data)\n",
        "            return True\n",
        "        except BaseException as e:\n",
        "            print(\"Error on_data %s\" % str(e))\n",
        "        return True\n",
        "    def on_error(self, status):\n",
        "        if status==420:\n",
        "            return False\n",
        "        print(status)\n",
        "\n",
        "class TweetAnalyzer():\n",
        "    def tweets_to_data_frame(self, tweets):\n",
        "        df = pd.DataFrame(data=[tweet.text for tweet in tweets], columns=['tweets'])\n",
        "        df['id'] = np.array([tweet.id for tweet in tweets])\n",
        "        df['len'] = np.array([len(tweet.text) for tweet in tweets])\n",
        "        df['date'] = np.array([tweet.created_at for tweet in tweets])\n",
        "        df['source'] = np.array([tweet.source for tweet in tweets])\n",
        "        df['likes'] = np.array([tweet.favorite_count for tweet in tweets])\n",
        "        df['retweets'] = np.array([tweet.retweet_count for tweet in tweets])\n",
        "        return df\n",
        "\n",
        "if __name__ == '__main__':\n",
        "    twitter_client = TwitterClient()\n",
        "    tweet_analyzer = TweetAnalyzer()\n",
        "    api = twitter_client.get_twitter_client_api()\n",
        "    tweets = api.user_timeline(screen_name=\"covidindia19\", count=20)\n",
        "    df = tweet_analyzer.tweets_to_data_frame(tweets)\n",
        "    print(np.mean(df['len']))\n",
        "    print(np.max(df['likes']))\n",
        "    print(np.max(df['retweets']))"
      ],
      "execution_count": 32,
      "outputs": [
        {
          "output_type": "stream",
          "text": [
            "105.75\n",
            "2\n",
            "1\n"
          ],
          "name": "stdout"
        }
      ]
    },
    {
      "cell_type": "markdown",
      "metadata": {
        "id": "HtqAn0s1P1Pj",
        "colab_type": "text"
      },
      "source": [
        "# SENTIMENTAL ANALYIS"
      ]
    },
    {
      "cell_type": "markdown",
      "metadata": {
        "id": "UTpdKxLMP32x",
        "colab_type": "text"
      },
      "source": [
        "Importing Libraries"
      ]
    },
    {
      "cell_type": "code",
      "metadata": {
        "id": "8yI5MiIZQASi",
        "colab_type": "code",
        "colab": {}
      },
      "source": [
        "from textblob import TextBlob\n",
        "import re"
      ],
      "execution_count": 0,
      "outputs": []
    },
    {
      "cell_type": "code",
      "metadata": {
        "id": "ab_nBnJcQBAb",
        "colab_type": "code",
        "colab": {
          "base_uri": "https://localhost:8080/",
          "height": 243
        },
        "outputId": "34074376-2c82-4432-e128-8a463bcacb5a"
      },
      "source": [
        "class TwitterClient():\n",
        "    def __init__(self, twitter_user=None):\n",
        "        self.auth = TwitterAuthenticator().authenticate_twitter_app()\n",
        "        self.twitter_client = API(self.auth)\n",
        "        self.twitter_user = twitter_user\n",
        "    def get_twitter_client_api(self):\n",
        "        return self.twitter_client\n",
        "    def get_user_timeline_tweets(self, num_tweets):\n",
        "        tweets = []\n",
        "        for tweet in Cursor(self.twitter_client.user_timeline, id=self.twitter_user).items(num_tweets):\n",
        "            tweets.append(tweet)\n",
        "        return tweets\n",
        "    def get_friend_list(self, num_friends):\n",
        "        friend_list = []\n",
        "        for friend in Cursor(self.twitter_client.friends, id=self.twitter_user).items(num_friends):\n",
        "            friend_list.append(friend)\n",
        "        return friend_list\n",
        "    def get_home_timeline_tweets(self, num_tweets):\n",
        "        home_timeline_tweets = []\n",
        "        for tweet in Cursor(self.twitter_client.home_timeline, id=self.twitter_user).items(num_tweets):\n",
        "            home_timeline_tweets.append(tweet)\n",
        "        return home_timeline_tweets\n",
        "\n",
        "class TwitterAuthenticator():\n",
        "    def authenticate_twitter_app(self):\n",
        "        auth = OAuthHandler(CONSUMER_KEY, CONSUMER_SECRET)\n",
        "        auth.set_access_token(ACCESS_TOKEN, ACCESS_TOKEN_SECRET)\n",
        "        return auth\n",
        "\n",
        "class TwitterStreamer():\n",
        "    def __init__(self):\n",
        "        self.twitter_autenticator = TwitterAuthenticator()  \n",
        "    def stream_tweets(self, fetched_tweets_filename, hash_tag_list):\n",
        "        listener = TwitterListener(fetched_tweets_filename)\n",
        "        auth = self.twitter_autenticator.authenticate_twitter_app() \n",
        "        stream = Stream(auth, listener)\n",
        "        stream.filter(track=hash_tag_list)\n",
        "\n",
        "class TwitterListener(StreamListener):\n",
        "    def __init__(self, fetched_tweets_filename):\n",
        "        self.fetched_tweets_filename = fetched_tweets_filename\n",
        "    def on_data(self, data):\n",
        "        try:\n",
        "            print(data)\n",
        "            with open(self.fetched_tweets_filename, 'a') as tf:\n",
        "                tf.write(data)\n",
        "            return True\n",
        "        except BaseException as e:\n",
        "            print(\"Error on_data %s\" % str(e))\n",
        "        return True\n",
        "    def on_error(self, status):\n",
        "      if status==420:\n",
        "            return False\n",
        "      print(status)\n",
        "\n",
        "class TweetAnalyzer():\n",
        "    def clean_tweet(self, tweet):\n",
        "        return ' '.join(re.sub(\"(@[A-Za-z0-9]+)|([^0-9A-Za-z \\t])|(\\w+:\\/\\/\\S+)\", \" \", tweet).split())\n",
        "    def analyze_sentiment(self, tweet):\n",
        "        analysis = TextBlob(self.clean_tweet(tweet)) \n",
        "        if analysis.sentiment.polarity > 0:\n",
        "            return 1\n",
        "        elif analysis.sentiment.polarity == 0:\n",
        "            return 0\n",
        "        else:\n",
        "            return -1\n",
        "\n",
        "\n",
        "    \n",
        "    def tweets_to_data_frame(self, tweets):\n",
        "        df = pd.DataFrame(data=[tweet.text for tweet in tweets], columns=['tweets'])\n",
        "        df['id'] = np.array([tweet.id for tweet in tweets])\n",
        "        df['len'] = np.array([len(tweet.text) for tweet in tweets])\n",
        "        df['date'] = np.array([tweet.created_at for tweet in tweets])\n",
        "        df['source'] = np.array([tweet.source for tweet in tweets])\n",
        "        df['likes'] = np.array([tweet.favorite_count for tweet in tweets])\n",
        "        df['retweets'] = np.array([tweet.retweet_count for tweet in tweets])\n",
        "        return df\n",
        "\n",
        "if __name__ == '__main__':\n",
        "    twitter_client = TwitterClient()\n",
        "    tweet_analyzer = TweetAnalyzer()\n",
        "    api = twitter_client.get_twitter_client_api()\n",
        "    tweets = api.user_timeline(screen_name=\"covidindia19\", count=20)\n",
        "    df = tweet_analyzer.tweets_to_data_frame(tweets)\n",
        "    df['sentiment'] = np.array([tweet_analyzer.analyze_sentiment(tweet) for tweet in df['tweets']])\n",
        "    print(df.head(10))"
      ],
      "execution_count": 28,
      "outputs": [
        {
          "output_type": "stream",
          "text": [
            "                                              tweets  ...  sentiment\n",
            "0  For more details subscribe to our Telegram cha...  ...          1\n",
            "1                            https://t.co/iDs1HWbEuR  ...          0\n",
            "2  6th June Update :: \\n10306 new COVID19 positiv...  ...          1\n",
            "3  1458 new COVID19 positive cases has been repor...  ...          1\n",
            "4  5th June #coronavirus Update #India \\n\\nNew #C...  ...          1\n",
            "5  @YoungSinner_10 @ANI All hiding data..\\n\\nhttp...  ...          0\n",
            "6                       @ANI https://t.co/FvGakXmirC  ...          0\n",
            "7  515 new COVID19 positive cases has been report...  ...          1\n",
            "8  1438 new COVID19 positive cases has been repor...  ...          1\n",
            "9               @CMofKarnataka @BSYBJP @covidindia19  ...          0\n",
            "\n",
            "[10 rows x 8 columns]\n"
          ],
          "name": "stdout"
        }
      ]
    }
  ]
}