{
  "nbformat": 4,
  "nbformat_minor": 0,
  "metadata": {
    "colab": {
      "name": "SocialNetworkAds.ipynb",
      "provenance": []
    },
    "kernelspec": {
      "name": "python3",
      "display_name": "Python 3"
    }
  },
  "cells": [
    {
      "cell_type": "markdown",
      "metadata": {
        "id": "YopOeyEHC8QD",
        "colab_type": "text"
      },
      "source": [
        "It's discrete classification type."
      ]
    },
    {
      "cell_type": "markdown",
      "metadata": {
        "id": "g8g7PXEP_OEo",
        "colab_type": "text"
      },
      "source": [
        "Importing Libraries"
      ]
    },
    {
      "cell_type": "code",
      "metadata": {
        "id": "eLTCzWgi-mT-",
        "colab_type": "code",
        "colab": {}
      },
      "source": [
        "import numpy as np\n",
        "import matplotlib.pyplot as plt\n",
        "import pandas as pd"
      ],
      "execution_count": 0,
      "outputs": []
    },
    {
      "cell_type": "markdown",
      "metadata": {
        "id": "6f8UGi7LAQ9B",
        "colab_type": "text"
      },
      "source": [
        "Importing the csv file using wget"
      ]
    },
    {
      "cell_type": "code",
      "metadata": {
        "id": "t9XZb0XlAJYi",
        "colab_type": "code",
        "colab": {
          "base_uri": "https://localhost:8080/",
          "height": 208
        },
        "outputId": "21e52b9d-2d13-4fb1-85a4-69207c63fcd4"
      },
      "source": [
        "!wget http://iali.in/datasets/Social_Network_Ads.csv"
      ],
      "execution_count": 2,
      "outputs": [
        {
          "output_type": "stream",
          "text": [
            "--2020-06-02 12:28:08--  http://iali.in/datasets/Social_Network_Ads.csv\n",
            "Resolving iali.in (iali.in)... 156.67.222.125\n",
            "Connecting to iali.in (iali.in)|156.67.222.125|:80... connected.\n",
            "HTTP request sent, awaiting response... 200 OK\n",
            "Length: 10926 (11K) [text/plain]\n",
            "Saving to: ‘Social_Network_Ads.csv’\n",
            "\n",
            "\rSocial_Network_Ads.   0%[                    ]       0  --.-KB/s               \rSocial_Network_Ads. 100%[===================>]  10.67K  --.-KB/s    in 0s      \n",
            "\n",
            "2020-06-02 12:28:09 (226 MB/s) - ‘Social_Network_Ads.csv’ saved [10926/10926]\n",
            "\n"
          ],
          "name": "stdout"
        }
      ]
    },
    {
      "cell_type": "markdown",
      "metadata": {
        "id": "lCfYVnAIAYgr",
        "colab_type": "text"
      },
      "source": [
        "Or Import the values to dataset variable using panda"
      ]
    },
    {
      "cell_type": "code",
      "metadata": {
        "id": "EoBIB-cmAa-x",
        "colab_type": "code",
        "colab": {}
      },
      "source": [
        "dataset = pd.read_csv(\"http://iali.in/datasets/Social_Network_Ads.csv\")"
      ],
      "execution_count": 0,
      "outputs": []
    },
    {
      "cell_type": "markdown",
      "metadata": {
        "id": "z9Fi21CHAwFi",
        "colab_type": "text"
      },
      "source": [
        "To check if dataset has been imported, use describe() or sample()"
      ]
    },
    {
      "cell_type": "code",
      "metadata": {
        "id": "lDkjYopnAmV3",
        "colab_type": "code",
        "colab": {
          "base_uri": "https://localhost:8080/",
          "height": 294
        },
        "outputId": "a35e92a1-b4b4-4058-d209-dc82829f1187"
      },
      "source": [
        "dataset.describe()"
      ],
      "execution_count": 4,
      "outputs": [
        {
          "output_type": "execute_result",
          "data": {
            "text/html": [
              "<div>\n",
              "<style scoped>\n",
              "    .dataframe tbody tr th:only-of-type {\n",
              "        vertical-align: middle;\n",
              "    }\n",
              "\n",
              "    .dataframe tbody tr th {\n",
              "        vertical-align: top;\n",
              "    }\n",
              "\n",
              "    .dataframe thead th {\n",
              "        text-align: right;\n",
              "    }\n",
              "</style>\n",
              "<table border=\"1\" class=\"dataframe\">\n",
              "  <thead>\n",
              "    <tr style=\"text-align: right;\">\n",
              "      <th></th>\n",
              "      <th>User ID</th>\n",
              "      <th>Age</th>\n",
              "      <th>EstimatedSalary</th>\n",
              "      <th>Purchased</th>\n",
              "    </tr>\n",
              "  </thead>\n",
              "  <tbody>\n",
              "    <tr>\n",
              "      <th>count</th>\n",
              "      <td>4.000000e+02</td>\n",
              "      <td>400.000000</td>\n",
              "      <td>400.000000</td>\n",
              "      <td>400.000000</td>\n",
              "    </tr>\n",
              "    <tr>\n",
              "      <th>mean</th>\n",
              "      <td>1.569154e+07</td>\n",
              "      <td>37.655000</td>\n",
              "      <td>69742.500000</td>\n",
              "      <td>0.357500</td>\n",
              "    </tr>\n",
              "    <tr>\n",
              "      <th>std</th>\n",
              "      <td>7.165832e+04</td>\n",
              "      <td>10.482877</td>\n",
              "      <td>34096.960282</td>\n",
              "      <td>0.479864</td>\n",
              "    </tr>\n",
              "    <tr>\n",
              "      <th>min</th>\n",
              "      <td>1.556669e+07</td>\n",
              "      <td>18.000000</td>\n",
              "      <td>15000.000000</td>\n",
              "      <td>0.000000</td>\n",
              "    </tr>\n",
              "    <tr>\n",
              "      <th>25%</th>\n",
              "      <td>1.562676e+07</td>\n",
              "      <td>29.750000</td>\n",
              "      <td>43000.000000</td>\n",
              "      <td>0.000000</td>\n",
              "    </tr>\n",
              "    <tr>\n",
              "      <th>50%</th>\n",
              "      <td>1.569434e+07</td>\n",
              "      <td>37.000000</td>\n",
              "      <td>70000.000000</td>\n",
              "      <td>0.000000</td>\n",
              "    </tr>\n",
              "    <tr>\n",
              "      <th>75%</th>\n",
              "      <td>1.575036e+07</td>\n",
              "      <td>46.000000</td>\n",
              "      <td>88000.000000</td>\n",
              "      <td>1.000000</td>\n",
              "    </tr>\n",
              "    <tr>\n",
              "      <th>max</th>\n",
              "      <td>1.581524e+07</td>\n",
              "      <td>60.000000</td>\n",
              "      <td>150000.000000</td>\n",
              "      <td>1.000000</td>\n",
              "    </tr>\n",
              "  </tbody>\n",
              "</table>\n",
              "</div>"
            ],
            "text/plain": [
              "            User ID         Age  EstimatedSalary   Purchased\n",
              "count  4.000000e+02  400.000000       400.000000  400.000000\n",
              "mean   1.569154e+07   37.655000     69742.500000    0.357500\n",
              "std    7.165832e+04   10.482877     34096.960282    0.479864\n",
              "min    1.556669e+07   18.000000     15000.000000    0.000000\n",
              "25%    1.562676e+07   29.750000     43000.000000    0.000000\n",
              "50%    1.569434e+07   37.000000     70000.000000    0.000000\n",
              "75%    1.575036e+07   46.000000     88000.000000    1.000000\n",
              "max    1.581524e+07   60.000000    150000.000000    1.000000"
            ]
          },
          "metadata": {
            "tags": []
          },
          "execution_count": 4
        }
      ]
    },
    {
      "cell_type": "code",
      "metadata": {
        "id": "8syhCgXpA1Wh",
        "colab_type": "code",
        "colab": {
          "base_uri": "https://localhost:8080/",
          "height": 79
        },
        "outputId": "0f9819e3-2337-4816-a2b3-286a10b8fe74"
      },
      "source": [
        "dataset.sample()"
      ],
      "execution_count": 5,
      "outputs": [
        {
          "output_type": "execute_result",
          "data": {
            "text/html": [
              "<div>\n",
              "<style scoped>\n",
              "    .dataframe tbody tr th:only-of-type {\n",
              "        vertical-align: middle;\n",
              "    }\n",
              "\n",
              "    .dataframe tbody tr th {\n",
              "        vertical-align: top;\n",
              "    }\n",
              "\n",
              "    .dataframe thead th {\n",
              "        text-align: right;\n",
              "    }\n",
              "</style>\n",
              "<table border=\"1\" class=\"dataframe\">\n",
              "  <thead>\n",
              "    <tr style=\"text-align: right;\">\n",
              "      <th></th>\n",
              "      <th>User ID</th>\n",
              "      <th>Gender</th>\n",
              "      <th>Age</th>\n",
              "      <th>EstimatedSalary</th>\n",
              "      <th>Purchased</th>\n",
              "    </tr>\n",
              "  </thead>\n",
              "  <tbody>\n",
              "    <tr>\n",
              "      <th>20</th>\n",
              "      <td>15649487</td>\n",
              "      <td>Male</td>\n",
              "      <td>45</td>\n",
              "      <td>22000</td>\n",
              "      <td>1</td>\n",
              "    </tr>\n",
              "  </tbody>\n",
              "</table>\n",
              "</div>"
            ],
            "text/plain": [
              "     User ID Gender  Age  EstimatedSalary  Purchased\n",
              "20  15649487   Male   45            22000          1"
            ]
          },
          "metadata": {
            "tags": []
          },
          "execution_count": 5
        }
      ]
    },
    {
      "cell_type": "code",
      "metadata": {
        "id": "siT9ia3QA9Po",
        "colab_type": "code",
        "colab": {
          "base_uri": "https://localhost:8080/",
          "height": 355
        },
        "outputId": "165bf3a3-4216-4fe0-e427-2cfa74741136"
      },
      "source": [
        "dataset.sample(10)"
      ],
      "execution_count": 6,
      "outputs": [
        {
          "output_type": "execute_result",
          "data": {
            "text/html": [
              "<div>\n",
              "<style scoped>\n",
              "    .dataframe tbody tr th:only-of-type {\n",
              "        vertical-align: middle;\n",
              "    }\n",
              "\n",
              "    .dataframe tbody tr th {\n",
              "        vertical-align: top;\n",
              "    }\n",
              "\n",
              "    .dataframe thead th {\n",
              "        text-align: right;\n",
              "    }\n",
              "</style>\n",
              "<table border=\"1\" class=\"dataframe\">\n",
              "  <thead>\n",
              "    <tr style=\"text-align: right;\">\n",
              "      <th></th>\n",
              "      <th>User ID</th>\n",
              "      <th>Gender</th>\n",
              "      <th>Age</th>\n",
              "      <th>EstimatedSalary</th>\n",
              "      <th>Purchased</th>\n",
              "    </tr>\n",
              "  </thead>\n",
              "  <tbody>\n",
              "    <tr>\n",
              "      <th>363</th>\n",
              "      <td>15768293</td>\n",
              "      <td>Female</td>\n",
              "      <td>42</td>\n",
              "      <td>79000</td>\n",
              "      <td>0</td>\n",
              "    </tr>\n",
              "    <tr>\n",
              "      <th>66</th>\n",
              "      <td>15679760</td>\n",
              "      <td>Male</td>\n",
              "      <td>24</td>\n",
              "      <td>19000</td>\n",
              "      <td>0</td>\n",
              "    </tr>\n",
              "    <tr>\n",
              "      <th>77</th>\n",
              "      <td>15774179</td>\n",
              "      <td>Female</td>\n",
              "      <td>22</td>\n",
              "      <td>27000</td>\n",
              "      <td>0</td>\n",
              "    </tr>\n",
              "    <tr>\n",
              "      <th>216</th>\n",
              "      <td>15636023</td>\n",
              "      <td>Male</td>\n",
              "      <td>49</td>\n",
              "      <td>65000</td>\n",
              "      <td>0</td>\n",
              "    </tr>\n",
              "    <tr>\n",
              "      <th>126</th>\n",
              "      <td>15610801</td>\n",
              "      <td>Male</td>\n",
              "      <td>42</td>\n",
              "      <td>65000</td>\n",
              "      <td>0</td>\n",
              "    </tr>\n",
              "    <tr>\n",
              "      <th>26</th>\n",
              "      <td>15792818</td>\n",
              "      <td>Male</td>\n",
              "      <td>49</td>\n",
              "      <td>28000</td>\n",
              "      <td>1</td>\n",
              "    </tr>\n",
              "    <tr>\n",
              "      <th>271</th>\n",
              "      <td>15688172</td>\n",
              "      <td>Female</td>\n",
              "      <td>59</td>\n",
              "      <td>76000</td>\n",
              "      <td>1</td>\n",
              "    </tr>\n",
              "    <tr>\n",
              "      <th>362</th>\n",
              "      <td>15768072</td>\n",
              "      <td>Female</td>\n",
              "      <td>47</td>\n",
              "      <td>50000</td>\n",
              "      <td>1</td>\n",
              "    </tr>\n",
              "    <tr>\n",
              "      <th>213</th>\n",
              "      <td>15657163</td>\n",
              "      <td>Male</td>\n",
              "      <td>35</td>\n",
              "      <td>58000</td>\n",
              "      <td>0</td>\n",
              "    </tr>\n",
              "    <tr>\n",
              "      <th>396</th>\n",
              "      <td>15706071</td>\n",
              "      <td>Male</td>\n",
              "      <td>51</td>\n",
              "      <td>23000</td>\n",
              "      <td>1</td>\n",
              "    </tr>\n",
              "  </tbody>\n",
              "</table>\n",
              "</div>"
            ],
            "text/plain": [
              "      User ID  Gender  Age  EstimatedSalary  Purchased\n",
              "363  15768293  Female   42            79000          0\n",
              "66   15679760    Male   24            19000          0\n",
              "77   15774179  Female   22            27000          0\n",
              "216  15636023    Male   49            65000          0\n",
              "126  15610801    Male   42            65000          0\n",
              "26   15792818    Male   49            28000          1\n",
              "271  15688172  Female   59            76000          1\n",
              "362  15768072  Female   47            50000          1\n",
              "213  15657163    Male   35            58000          0\n",
              "396  15706071    Male   51            23000          1"
            ]
          },
          "metadata": {
            "tags": []
          },
          "execution_count": 6
        }
      ]
    },
    {
      "cell_type": "markdown",
      "metadata": {
        "id": "qlhTORdhCHIT",
        "colab_type": "text"
      },
      "source": [
        "Add values to x and y. Either use dataset or iloc.\n",
        "\n",
        "Syntax of iloc\n",
        "\n",
        "iloc [ [Row_start: Row_end] , [Col_Start: Col_end]]\n",
        "\n",
        "We use [2, 3] means it takes rows 2 and 3\n",
        "2:3 means only row 2"
      ]
    },
    {
      "cell_type": "code",
      "metadata": {
        "id": "hELVr9iBBAvk",
        "colab_type": "code",
        "colab": {}
      },
      "source": [
        "x = dataset.iloc[:,[2,3]].values\n",
        "y = dataset.iloc[:,4].values"
      ],
      "execution_count": 0,
      "outputs": []
    },
    {
      "cell_type": "markdown",
      "metadata": {
        "id": "YPAUg4OrDNxU",
        "colab_type": "text"
      },
      "source": [
        "Type\n",
        "y\n",
        "x\n",
        "alone to check values. Cancel it if you dont want so much."
      ]
    },
    {
      "cell_type": "code",
      "metadata": {
        "id": "VlLv1Wl3D0dV",
        "colab_type": "code",
        "colab": {}
      },
      "source": [
        "x\n",
        "y"
      ],
      "execution_count": 0,
      "outputs": []
    },
    {
      "cell_type": "markdown",
      "metadata": {
        "id": "qW7Jac6NDNvB",
        "colab_type": "text"
      },
      "source": [
        "Split data into training and testing. Use sklearn library.\n",
        "\n",
        "Syntax: train_test_split(x,y,split-size)\n",
        "\n",
        "0.2 = 80-20"
      ]
    },
    {
      "cell_type": "code",
      "metadata": {
        "id": "oNM9SEBYDE32",
        "colab_type": "code",
        "colab": {}
      },
      "source": [
        "from sklearn.model_selection import train_test_split\n",
        "\n",
        "x_train, x_test, y_train, y_test = train_test_split(x, y, test_size=0.2)"
      ],
      "execution_count": 0,
      "outputs": []
    },
    {
      "cell_type": "markdown",
      "metadata": {
        "id": "ealqgv-rEXof",
        "colab_type": "text"
      },
      "source": [
        "Building the model and visualizing the tree. \n",
        "\n",
        "Use this for reference:https://scikit-learn.org/stable/modules/tree.html#classification"
      ]
    },
    {
      "cell_type": "code",
      "metadata": {
        "id": "Tc44Qq0eEW5Y",
        "colab_type": "code",
        "colab": {}
      },
      "source": [
        "from sklearn import tree\n",
        "\n",
        "clf = tree.DecisionTreeClassifier()\n",
        "\n",
        "clf = clf.fit(x_train, y_train)"
      ],
      "execution_count": 0,
      "outputs": []
    },
    {
      "cell_type": "code",
      "metadata": {
        "id": "3iycpDptE6aH",
        "colab_type": "code",
        "colab": {
          "base_uri": "https://localhost:8080/",
          "height": 1000
        },
        "outputId": "076f61ad-9962-4996-ced7-79344fb7c98f"
      },
      "source": [
        "tree.plot_tree(clf) "
      ],
      "execution_count": 23,
      "outputs": [
        {
          "output_type": "execute_result",
          "data": {
            "text/plain": [
              "[Text(157.5529411764706, 209.6742857142857, 'X[0] <= 42.5\\ngini = 0.462\\nsamples = 320\\nvalue = [204, 116]'),\n",
              " Text(77.95588235294119, 194.14285714285714, 'X[1] <= 90500.0\\ngini = 0.28\\nsamples = 226\\nvalue = [188, 38]'),\n",
              " Text(44.31176470588236, 178.61142857142858, 'X[0] <= 36.5\\ngini = 0.081\\nsamples = 190\\nvalue = [182, 8]'),\n",
              " Text(37.747058823529414, 163.07999999999998, 'gini = 0.0\\nsamples = 125\\nvalue = [125, 0]'),\n",
              " Text(50.8764705882353, 163.07999999999998, 'X[1] <= 67500.0\\ngini = 0.216\\nsamples = 65\\nvalue = [57, 8]'),\n",
              " Text(44.31176470588236, 147.54857142857142, 'gini = 0.0\\nsamples = 33\\nvalue = [33, 0]'),\n",
              " Text(57.44117647058824, 147.54857142857142, 'X[1] <= 70500.0\\ngini = 0.375\\nsamples = 32\\nvalue = [24, 8]'),\n",
              " Text(50.8764705882353, 132.01714285714286, 'gini = 0.0\\nsamples = 1\\nvalue = [0, 1]'),\n",
              " Text(64.00588235294119, 132.01714285714286, 'X[1] <= 83500.0\\ngini = 0.35\\nsamples = 31\\nvalue = [24, 7]'),\n",
              " Text(57.44117647058824, 116.48571428571428, 'X[0] <= 41.5\\ngini = 0.32\\nsamples = 30\\nvalue = [24, 6]'),\n",
              " Text(36.10588235294118, 100.9542857142857, 'X[0] <= 37.5\\ngini = 0.269\\nsamples = 25\\nvalue = [21, 4]'),\n",
              " Text(13.129411764705884, 85.42285714285714, 'X[1] <= 76500.0\\ngini = 0.408\\nsamples = 7\\nvalue = [5, 2]'),\n",
              " Text(6.564705882352942, 69.89142857142858, 'gini = 0.0\\nsamples = 3\\nvalue = [3, 0]'),\n",
              " Text(19.694117647058825, 69.89142857142858, 'X[1] <= 79500.0\\ngini = 0.5\\nsamples = 4\\nvalue = [2, 2]'),\n",
              " Text(13.129411764705884, 54.359999999999985, 'gini = 0.0\\nsamples = 2\\nvalue = [0, 2]'),\n",
              " Text(26.258823529411767, 54.359999999999985, 'gini = 0.0\\nsamples = 2\\nvalue = [2, 0]'),\n",
              " Text(59.082352941176474, 85.42285714285714, 'X[1] <= 76000.0\\ngini = 0.198\\nsamples = 18\\nvalue = [16, 2]'),\n",
              " Text(52.517647058823535, 69.89142857142858, 'X[1] <= 74000.0\\ngini = 0.26\\nsamples = 13\\nvalue = [11, 2]'),\n",
              " Text(39.38823529411765, 54.359999999999985, 'X[0] <= 39.5\\ngini = 0.18\\nsamples = 10\\nvalue = [9, 1]'),\n",
              " Text(32.82352941176471, 38.82857142857142, 'gini = 0.0\\nsamples = 5\\nvalue = [5, 0]'),\n",
              " Text(45.952941176470596, 38.82857142857142, 'X[1] <= 71500.0\\ngini = 0.32\\nsamples = 5\\nvalue = [4, 1]'),\n",
              " Text(39.38823529411765, 23.29714285714286, 'X[0] <= 40.5\\ngini = 0.5\\nsamples = 2\\nvalue = [1, 1]'),\n",
              " Text(32.82352941176471, 7.765714285714267, 'gini = 0.0\\nsamples = 1\\nvalue = [0, 1]'),\n",
              " Text(45.952941176470596, 7.765714285714267, 'gini = 0.0\\nsamples = 1\\nvalue = [1, 0]'),\n",
              " Text(52.517647058823535, 23.29714285714286, 'gini = 0.0\\nsamples = 3\\nvalue = [3, 0]'),\n",
              " Text(65.64705882352942, 54.359999999999985, 'X[0] <= 39.5\\ngini = 0.444\\nsamples = 3\\nvalue = [2, 1]'),\n",
              " Text(59.082352941176474, 38.82857142857142, 'gini = 0.0\\nsamples = 1\\nvalue = [0, 1]'),\n",
              " Text(72.21176470588236, 38.82857142857142, 'gini = 0.0\\nsamples = 2\\nvalue = [2, 0]'),\n",
              " Text(65.64705882352942, 69.89142857142858, 'gini = 0.0\\nsamples = 5\\nvalue = [5, 0]'),\n",
              " Text(78.7764705882353, 100.9542857142857, 'X[1] <= 74000.0\\ngini = 0.48\\nsamples = 5\\nvalue = [3, 2]'),\n",
              " Text(72.21176470588236, 85.42285714285714, 'gini = 0.0\\nsamples = 1\\nvalue = [0, 1]'),\n",
              " Text(85.34117647058824, 85.42285714285714, 'X[1] <= 79500.0\\ngini = 0.375\\nsamples = 4\\nvalue = [3, 1]'),\n",
              " Text(78.7764705882353, 69.89142857142858, 'gini = 0.0\\nsamples = 2\\nvalue = [2, 0]'),\n",
              " Text(91.90588235294119, 69.89142857142858, 'gini = 0.5\\nsamples = 2\\nvalue = [1, 1]'),\n",
              " Text(70.57058823529412, 116.48571428571428, 'gini = 0.0\\nsamples = 1\\nvalue = [0, 1]'),\n",
              " Text(111.60000000000001, 178.61142857142858, 'X[1] <= 120000.0\\ngini = 0.278\\nsamples = 36\\nvalue = [6, 30]'),\n",
              " Text(105.03529411764707, 163.07999999999998, 'X[1] <= 110000.0\\ngini = 0.42\\nsamples = 20\\nvalue = [6, 14]'),\n",
              " Text(98.47058823529413, 147.54857142857142, 'gini = 0.0\\nsamples = 10\\nvalue = [0, 10]'),\n",
              " Text(111.60000000000001, 147.54857142857142, 'X[0] <= 33.5\\ngini = 0.48\\nsamples = 10\\nvalue = [6, 4]'),\n",
              " Text(91.90588235294119, 132.01714285714286, 'X[1] <= 117500.0\\ngini = 0.32\\nsamples = 5\\nvalue = [4, 1]'),\n",
              " Text(85.34117647058824, 116.48571428571428, 'gini = 0.0\\nsamples = 3\\nvalue = [3, 0]'),\n",
              " Text(98.47058823529413, 116.48571428571428, 'X[0] <= 28.5\\ngini = 0.5\\nsamples = 2\\nvalue = [1, 1]'),\n",
              " Text(91.90588235294119, 100.9542857142857, 'gini = 0.0\\nsamples = 1\\nvalue = [1, 0]'),\n",
              " Text(105.03529411764707, 100.9542857142857, 'gini = 0.0\\nsamples = 1\\nvalue = [0, 1]'),\n",
              " Text(131.29411764705884, 132.01714285714286, 'X[1] <= 116500.0\\ngini = 0.48\\nsamples = 5\\nvalue = [2, 3]'),\n",
              " Text(124.7294117647059, 116.48571428571428, 'X[1] <= 114000.0\\ngini = 0.5\\nsamples = 4\\nvalue = [2, 2]'),\n",
              " Text(118.16470588235295, 100.9542857142857, 'X[0] <= 36.0\\ngini = 0.444\\nsamples = 3\\nvalue = [1, 2]'),\n",
              " Text(111.60000000000001, 85.42285714285714, 'gini = 0.0\\nsamples = 1\\nvalue = [0, 1]'),\n",
              " Text(124.7294117647059, 85.42285714285714, 'X[1] <= 112500.0\\ngini = 0.5\\nsamples = 2\\nvalue = [1, 1]'),\n",
              " Text(118.16470588235295, 69.89142857142858, 'gini = 0.0\\nsamples = 1\\nvalue = [1, 0]'),\n",
              " Text(131.29411764705884, 69.89142857142858, 'gini = 0.0\\nsamples = 1\\nvalue = [0, 1]'),\n",
              " Text(131.29411764705884, 100.9542857142857, 'gini = 0.0\\nsamples = 1\\nvalue = [1, 0]'),\n",
              " Text(137.85882352941178, 116.48571428571428, 'gini = 0.0\\nsamples = 1\\nvalue = [0, 1]'),\n",
              " Text(118.16470588235295, 163.07999999999998, 'gini = 0.0\\nsamples = 16\\nvalue = [0, 16]'),\n",
              " Text(237.15000000000003, 194.14285714285714, 'X[0] <= 46.5\\ngini = 0.282\\nsamples = 94\\nvalue = [16, 78]'),\n",
              " Text(185.4529411764706, 178.61142857142858, 'X[1] <= 52000.0\\ngini = 0.472\\nsamples = 21\\nvalue = [8, 13]'),\n",
              " Text(157.5529411764706, 163.07999999999998, 'X[0] <= 44.5\\ngini = 0.346\\nsamples = 9\\nvalue = [2, 7]'),\n",
              " Text(150.98823529411766, 147.54857142857142, 'gini = 0.0\\nsamples = 1\\nvalue = [1, 0]'),\n",
              " Text(164.11764705882354, 147.54857142857142, 'X[1] <= 22500.0\\ngini = 0.219\\nsamples = 8\\nvalue = [1, 7]'),\n",
              " Text(157.5529411764706, 132.01714285714286, 'X[0] <= 45.5\\ngini = 0.5\\nsamples = 2\\nvalue = [1, 1]'),\n",
              " Text(150.98823529411766, 116.48571428571428, 'gini = 0.0\\nsamples = 1\\nvalue = [0, 1]'),\n",
              " Text(164.11764705882354, 116.48571428571428, 'gini = 0.0\\nsamples = 1\\nvalue = [1, 0]'),\n",
              " Text(170.68235294117648, 132.01714285714286, 'gini = 0.0\\nsamples = 6\\nvalue = [0, 6]'),\n",
              " Text(213.3529411764706, 163.07999999999998, 'X[1] <= 85000.0\\ngini = 0.5\\nsamples = 12\\nvalue = [6, 6]'),\n",
              " Text(190.37647058823532, 147.54857142857142, 'X[1] <= 76500.0\\ngini = 0.32\\nsamples = 5\\nvalue = [4, 1]'),\n",
              " Text(183.81176470588238, 132.01714285714286, 'gini = 0.0\\nsamples = 2\\nvalue = [2, 0]'),\n",
              " Text(196.94117647058826, 132.01714285714286, 'X[0] <= 45.5\\ngini = 0.444\\nsamples = 3\\nvalue = [2, 1]'),\n",
              " Text(190.37647058823532, 116.48571428571428, 'gini = 0.0\\nsamples = 1\\nvalue = [1, 0]'),\n",
              " Text(203.5058823529412, 116.48571428571428, 'X[1] <= 80500.0\\ngini = 0.5\\nsamples = 2\\nvalue = [1, 1]'),\n",
              " Text(196.94117647058826, 100.9542857142857, 'gini = 0.0\\nsamples = 1\\nvalue = [0, 1]'),\n",
              " Text(210.07058823529414, 100.9542857142857, 'gini = 0.0\\nsamples = 1\\nvalue = [1, 0]'),\n",
              " Text(236.3294117647059, 147.54857142857142, 'X[1] <= 104000.0\\ngini = 0.408\\nsamples = 7\\nvalue = [2, 5]'),\n",
              " Text(223.20000000000002, 132.01714285714286, 'X[1] <= 92000.0\\ngini = 0.5\\nsamples = 2\\nvalue = [1, 1]'),\n",
              " Text(216.63529411764708, 116.48571428571428, 'gini = 0.0\\nsamples = 1\\nvalue = [0, 1]'),\n",
              " Text(229.76470588235296, 116.48571428571428, 'gini = 0.0\\nsamples = 1\\nvalue = [1, 0]'),\n",
              " Text(249.4588235294118, 132.01714285714286, 'X[1] <= 132000.0\\ngini = 0.32\\nsamples = 5\\nvalue = [1, 4]'),\n",
              " Text(242.89411764705883, 116.48571428571428, 'gini = 0.0\\nsamples = 3\\nvalue = [0, 3]'),\n",
              " Text(256.02352941176474, 116.48571428571428, 'X[0] <= 43.5\\ngini = 0.5\\nsamples = 2\\nvalue = [1, 1]'),\n",
              " Text(249.4588235294118, 100.9542857142857, 'gini = 0.0\\nsamples = 1\\nvalue = [1, 0]'),\n",
              " Text(262.5882352941177, 100.9542857142857, 'gini = 0.0\\nsamples = 1\\nvalue = [0, 1]'),\n",
              " Text(288.84705882352944, 178.61142857142858, 'X[0] <= 52.5\\ngini = 0.195\\nsamples = 73\\nvalue = [8, 65]'),\n",
              " Text(282.2823529411765, 163.07999999999998, 'X[1] <= 42000.0\\ngini = 0.287\\nsamples = 46\\nvalue = [8, 38]'),\n",
              " Text(275.71764705882356, 147.54857142857142, 'gini = 0.0\\nsamples = 18\\nvalue = [0, 18]'),\n",
              " Text(288.84705882352944, 147.54857142857142, 'X[1] <= 48000.0\\ngini = 0.408\\nsamples = 28\\nvalue = [8, 20]'),\n",
              " Text(282.2823529411765, 132.01714285714286, 'gini = 0.0\\nsamples = 3\\nvalue = [3, 0]'),\n",
              " Text(295.4117647058824, 132.01714285714286, 'X[0] <= 48.5\\ngini = 0.32\\nsamples = 25\\nvalue = [5, 20]'),\n",
              " Text(282.2823529411765, 116.48571428571428, 'X[1] <= 139500.0\\ngini = 0.142\\nsamples = 13\\nvalue = [1, 12]'),\n",
              " Text(275.71764705882356, 100.9542857142857, 'gini = 0.0\\nsamples = 11\\nvalue = [0, 11]'),\n",
              " Text(288.84705882352944, 100.9542857142857, 'X[1] <= 142500.0\\ngini = 0.5\\nsamples = 2\\nvalue = [1, 1]'),\n",
              " Text(282.2823529411765, 85.42285714285714, 'gini = 0.0\\nsamples = 1\\nvalue = [1, 0]'),\n",
              " Text(295.4117647058824, 85.42285714285714, 'gini = 0.0\\nsamples = 1\\nvalue = [0, 1]'),\n",
              " Text(308.54117647058825, 116.48571428571428, 'X[1] <= 81000.0\\ngini = 0.444\\nsamples = 12\\nvalue = [4, 8]'),\n",
              " Text(301.9764705882353, 100.9542857142857, 'gini = 0.0\\nsamples = 2\\nvalue = [2, 0]'),\n",
              " Text(315.1058823529412, 100.9542857142857, 'X[1] <= 102000.0\\ngini = 0.32\\nsamples = 10\\nvalue = [2, 8]'),\n",
              " Text(308.54117647058825, 85.42285714285714, 'gini = 0.0\\nsamples = 4\\nvalue = [0, 4]'),\n",
              " Text(321.67058823529413, 85.42285714285714, 'X[1] <= 136000.0\\ngini = 0.444\\nsamples = 6\\nvalue = [2, 4]'),\n",
              " Text(315.1058823529412, 69.89142857142858, 'gini = 0.0\\nsamples = 2\\nvalue = [2, 0]'),\n",
              " Text(328.2352941176471, 69.89142857142858, 'gini = 0.0\\nsamples = 4\\nvalue = [0, 4]'),\n",
              " Text(295.4117647058824, 163.07999999999998, 'gini = 0.0\\nsamples = 27\\nvalue = [0, 27]')]"
            ]
          },
          "metadata": {
            "tags": []
          },
          "execution_count": 23
        },
        {
          "output_type": "display_data",
          "data": {
            "image/png": "[encoded data removed]",
            "text/plain": [
              "<Figure size 432x288 with 1 Axes>"
            ]
          },
          "metadata": {
            "tags": [],
            "needs_background": "light"
          }
        }
      ]
    },
    {
      "cell_type": "markdown",
      "metadata": {
        "id": "CvYcqQfNFNsQ",
        "colab_type": "text"
      },
      "source": [
        "Predict \n",
        "to predict y, you pass x_test into the model\n",
        "y_pred is what output of x_test is compared with."
      ]
    },
    {
      "cell_type": "code",
      "metadata": {
        "id": "HG_CfSepFNK1",
        "colab_type": "code",
        "colab": {}
      },
      "source": [
        "y_pred =clf.predict(x_test)"
      ],
      "execution_count": 0,
      "outputs": []
    },
    {
      "cell_type": "code",
      "metadata": {
        "id": "Mw9vBv7hFUrd",
        "colab_type": "code",
        "colab": {
          "base_uri": "https://localhost:8080/",
          "height": 87
        },
        "outputId": "434c1b79-6e71-4e85-a1fb-6367d6d27ed4"
      },
      "source": [
        "y_pred"
      ],
      "execution_count": 22,
      "outputs": [
        {
          "output_type": "execute_result",
          "data": {
            "text/plain": [
              "array([0, 0, 0, 1, 1, 0, 0, 0, 0, 1, 1, 0, 1, 1, 0, 0, 0, 1, 0, 1, 1, 0,\n",
              "       1, 1, 1, 0, 0, 1, 0, 0, 0, 1, 0, 0, 0, 0, 1, 0, 0, 0, 0, 0, 0, 0,\n",
              "       0, 0, 1, 1, 1, 1, 1, 0, 0, 1, 1, 1, 0, 0, 0, 1, 0, 1, 0, 1, 0, 0,\n",
              "       0, 1, 1, 0, 0, 1, 0, 0, 0, 0, 1, 0, 1, 0])"
            ]
          },
          "metadata": {
            "tags": []
          },
          "execution_count": 22
        }
      ]
    },
    {
      "cell_type": "markdown",
      "metadata": {
        "id": "3BMljlhuFfwM",
        "colab_type": "text"
      },
      "source": [
        "To calculate accuracy:\n",
        "use sklearn.metrics\n",
        "\n",
        "Compares between y_pred and y_test"
      ]
    },
    {
      "cell_type": "code",
      "metadata": {
        "id": "fAzvuPqbFw21",
        "colab_type": "code",
        "colab": {
          "base_uri": "https://localhost:8080/",
          "height": 35
        },
        "outputId": "e1efd970-02b5-4d25-87a9-9ed656599030"
      },
      "source": [
        "from sklearn.metrics import accuracy_score\n",
        "\n",
        "accuracy_score(y_pred, y_test)"
      ],
      "execution_count": 24,
      "outputs": [
        {
          "output_type": "execute_result",
          "data": {
            "text/plain": [
              "0.925"
            ]
          },
          "metadata": {
            "tags": []
          },
          "execution_count": 24
        }
      ]
    },
    {
      "cell_type": "markdown",
      "metadata": {
        "id": "sPJqFC3NGIT3",
        "colab_type": "text"
      },
      "source": [
        "Classification report -  to test how good the model is"
      ]
    },
    {
      "cell_type": "code",
      "metadata": {
        "id": "D0kMkiFdGMTY",
        "colab_type": "code",
        "colab": {
          "base_uri": "https://localhost:8080/",
          "height": 55
        },
        "outputId": "3d76e358-b1dd-4479-ea54-3143a691214d"
      },
      "source": [
        "from sklearn.metrics import classification_report\n",
        "\n",
        "classes = ['0','1']\n",
        "\n",
        "classification_report(y_test, y_pred, target_names=classes)"
      ],
      "execution_count": 27,
      "outputs": [
        {
          "output_type": "execute_result",
          "data": {
            "text/plain": [
              "'              precision    recall  f1-score   support\\n\\n           0       0.98      0.91      0.94        53\\n           1       0.84      0.96      0.90        27\\n\\n    accuracy                           0.93        80\\n   macro avg       0.91      0.93      0.92        80\\nweighted avg       0.93      0.93      0.93        80\\n'"
            ]
          },
          "metadata": {
            "tags": []
          },
          "execution_count": 27
        }
      ]
    },
    {
      "cell_type": "markdown",
      "metadata": {
        "id": "F1SKBFRRGwL7",
        "colab_type": "text"
      },
      "source": [
        "Visualizing as actual vs predicted"
      ]
    },
    {
      "cell_type": "code",
      "metadata": {
        "id": "haywUjuhGv4N",
        "colab_type": "code",
        "colab": {
          "base_uri": "https://localhost:8080/",
          "height": 415
        },
        "outputId": "c8790d3f-37f1-4ad9-f23a-5980241d4b6b"
      },
      "source": [
        "df = pd.DataFrame({'Actual':y_test, 'Predicted':y_pred})\n",
        "\n",
        "df"
      ],
      "execution_count": 29,
      "outputs": [
        {
          "output_type": "execute_result",
          "data": {
            "text/html": [
              "<div>\n",
              "<style scoped>\n",
              "    .dataframe tbody tr th:only-of-type {\n",
              "        vertical-align: middle;\n",
              "    }\n",
              "\n",
              "    .dataframe tbody tr th {\n",
              "        vertical-align: top;\n",
              "    }\n",
              "\n",
              "    .dataframe thead th {\n",
              "        text-align: right;\n",
              "    }\n",
              "</style>\n",
              "<table border=\"1\" class=\"dataframe\">\n",
              "  <thead>\n",
              "    <tr style=\"text-align: right;\">\n",
              "      <th></th>\n",
              "      <th>Actual</th>\n",
              "      <th>Predicted</th>\n",
              "    </tr>\n",
              "  </thead>\n",
              "  <tbody>\n",
              "    <tr>\n",
              "      <th>0</th>\n",
              "      <td>0</td>\n",
              "      <td>0</td>\n",
              "    </tr>\n",
              "    <tr>\n",
              "      <th>1</th>\n",
              "      <td>0</td>\n",
              "      <td>0</td>\n",
              "    </tr>\n",
              "    <tr>\n",
              "      <th>2</th>\n",
              "      <td>1</td>\n",
              "      <td>0</td>\n",
              "    </tr>\n",
              "    <tr>\n",
              "      <th>3</th>\n",
              "      <td>1</td>\n",
              "      <td>1</td>\n",
              "    </tr>\n",
              "    <tr>\n",
              "      <th>4</th>\n",
              "      <td>0</td>\n",
              "      <td>1</td>\n",
              "    </tr>\n",
              "    <tr>\n",
              "      <th>...</th>\n",
              "      <td>...</td>\n",
              "      <td>...</td>\n",
              "    </tr>\n",
              "    <tr>\n",
              "      <th>75</th>\n",
              "      <td>0</td>\n",
              "      <td>0</td>\n",
              "    </tr>\n",
              "    <tr>\n",
              "      <th>76</th>\n",
              "      <td>1</td>\n",
              "      <td>1</td>\n",
              "    </tr>\n",
              "    <tr>\n",
              "      <th>77</th>\n",
              "      <td>0</td>\n",
              "      <td>0</td>\n",
              "    </tr>\n",
              "    <tr>\n",
              "      <th>78</th>\n",
              "      <td>1</td>\n",
              "      <td>1</td>\n",
              "    </tr>\n",
              "    <tr>\n",
              "      <th>79</th>\n",
              "      <td>0</td>\n",
              "      <td>0</td>\n",
              "    </tr>\n",
              "  </tbody>\n",
              "</table>\n",
              "<p>80 rows × 2 columns</p>\n",
              "</div>"
            ],
            "text/plain": [
              "    Actual  Predicted\n",
              "0        0          0\n",
              "1        0          0\n",
              "2        1          0\n",
              "3        1          1\n",
              "4        0          1\n",
              "..     ...        ...\n",
              "75       0          0\n",
              "76       1          1\n",
              "77       0          0\n",
              "78       1          1\n",
              "79       0          0\n",
              "\n",
              "[80 rows x 2 columns]"
            ]
          },
          "metadata": {
            "tags": []
          },
          "execution_count": 29
        }
      ]
    },
    {
      "cell_type": "code",
      "metadata": {
        "id": "OO8xLxx-HV0h",
        "colab_type": "code",
        "colab": {}
      },
      "source": [
        "Plotting bar graph to see how it looks"
      ],
      "execution_count": 0,
      "outputs": []
    },
    {
      "cell_type": "code",
      "metadata": {
        "id": "28k3fry9HYW7",
        "colab_type": "code",
        "colab": {
          "base_uri": "https://localhost:8080/",
          "height": 322
        },
        "outputId": "94130ed5-ac58-4fa8-ca5b-2b3cf5537416"
      },
      "source": [
        "df1 = df.head(25)  # graph with top 25 rows of original data frame\n",
        "df1.plot(kind='bar', figsize=(16,5))   #bargraph any values to make its size.\n",
        "plt.grid(which='major', linestyle='-',linewidth='1', color='green')\n",
        "plt.grid(which='minor', linestyle=':',linewidth='1', color='black')\n",
        "plt.show()"
      ],
      "execution_count": 33,
      "outputs": [
        {
          "output_type": "display_data",
          "data": {
            "image/png": "[encoded data removed]",
            "text/plain": [
              "<Figure size 1152x360 with 1 Axes>"
            ]
          },
          "metadata": {
            "tags": [],
            "needs_background": "light"
          }
        }
      ]
    }
  ]
}