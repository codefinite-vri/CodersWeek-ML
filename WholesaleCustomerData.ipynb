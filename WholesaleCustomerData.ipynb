{
  "nbformat": 4,
  "nbformat_minor": 0,
  "metadata": {
    "colab": {
      "name": "WholesaleCustomerData.ipynb",
      "provenance": [],
      "collapsed_sections": [],
      "authorship_tag": "ABX9TyMGttK0zqDSBFvQUJ4O+DZB",
      "include_colab_link": true
    },
    "kernelspec": {
      "name": "python3",
      "display_name": "Python 3"
    }
  },
  "cells": [
    {
      "cell_type": "markdown",
      "metadata": {
        "id": "view-in-github",
        "colab_type": "text"
      },
      "source": [
        "<a href=\"https://colab.research.google.com/github/codefinite-vri/CodersWeek-ML/blob/master/WholesaleCustomerData.ipynb\" target=\"_parent\"><img src=\"https://colab.research.google.com/assets/colab-badge.svg\" alt=\"Open In Colab\"/></a>"
      ]
    },
    {
      "cell_type": "markdown",
      "metadata": {
        "id": "lSn6t5TpLriU",
        "colab_type": "text"
      },
      "source": [
        "# **UNSUPERVISED LEARNING** "
      ]
    },
    {
      "cell_type": "markdown",
      "metadata": {
        "id": "Pf9U49wkL5Sz",
        "colab_type": "text"
      },
      "source": [
        "**About the dataset used**\n",
        "\n",
        "The dataset refers to clients of a wholesale distributor. It includes the annual spending in monetary units (m.u.) on diverse product categories\n",
        "\n",
        "Attribute Information:\n",
        "\n",
        "1)\tFRESH: annual spending (m.u.) on fresh products (Continuous)\n",
        "\n",
        "2)\tMILK: annual spending (m.u.) on milk products (Continuous)\n",
        "\n",
        "3)\tGROCERY: annual spending (m.u.)on grocery products (Continuous)\n",
        "\n",
        "4)\tFROZEN: annual spending (m.u.)on frozen products (Continuous)\n",
        "\n",
        "5)\tDETERGENTS_PAPER: annual spending (m.u.) on detergents and paper products (Continuous) \n",
        "\n",
        "6)\tDELICATESSEN: annual spending (m.u.)on and delicatessen products (Continuous)\n",
        "\n",
        "7)\tCHANNEL: Type of channel\n",
        "\n",
        "8)\tREGION: Type of region(Nominal) \n",
        "\n",
        "Descriptive Statistics: Source: UCI Wholesale customers Data Set (https://archive.ics.uci.edu/ml/datasets/wholesale+customers)"
      ]
    },
    {
      "cell_type": "markdown",
      "metadata": {
        "id": "OIikFDy1MGsp",
        "colab_type": "text"
      },
      "source": [
        "# UNSUPERVISED LEARNING - K-MEANS CLUSTERING"
      ]
    },
    {
      "cell_type": "markdown",
      "metadata": {
        "id": "6s1kC5fOMYdh",
        "colab_type": "text"
      },
      "source": [
        "Importing the libraries"
      ]
    },
    {
      "cell_type": "code",
      "metadata": {
        "id": "9f6WEzEPMbHR",
        "colab_type": "code",
        "colab": {}
      },
      "source": [
        "import numpy as np\n",
        "import matplotlib.pyplot as plt\n",
        "import pandas as pd\n",
        "from sklearn.cluster import KMeans\n",
        "from sklearn.preprocessing import MinMaxScaler\n",
        "import seaborn as sns\n",
        "%matplotlib inline"
      ],
      "execution_count": 0,
      "outputs": []
    },
    {
      "cell_type": "markdown",
      "metadata": {
        "id": "MTgWZX33Mbmg",
        "colab_type": "text"
      },
      "source": [
        "Loading the dataset"
      ]
    },
    {
      "cell_type": "code",
      "metadata": {
        "id": "6mqLUKtJK1Xp",
        "colab_type": "code",
        "colab": {}
      },
      "source": [
        "dataset = pd.read_csv(\"http://iali.in/datasets/IEEEAPSIT/unsupervised-ml/Wholesale%20customers%20data.csv\")"
      ],
      "execution_count": 0,
      "outputs": []
    },
    {
      "cell_type": "code",
      "metadata": {
        "id": "U45xJ9A7OA8v",
        "colab_type": "code",
        "colab": {
          "base_uri": "https://localhost:8080/",
          "height": 355
        },
        "outputId": "e3e10ec8-d6f2-4a58-b88e-8ef5639152b6"
      },
      "source": [
        "#Displays first 10 values\n",
        "dataset.head(10)"
      ],
      "execution_count": 115,
      "outputs": [
        {
          "output_type": "execute_result",
          "data": {
            "text/html": [
              "<div>\n",
              "<style scoped>\n",
              "    .dataframe tbody tr th:only-of-type {\n",
              "        vertical-align: middle;\n",
              "    }\n",
              "\n",
              "    .dataframe tbody tr th {\n",
              "        vertical-align: top;\n",
              "    }\n",
              "\n",
              "    .dataframe thead th {\n",
              "        text-align: right;\n",
              "    }\n",
              "</style>\n",
              "<table border=\"1\" class=\"dataframe\">\n",
              "  <thead>\n",
              "    <tr style=\"text-align: right;\">\n",
              "      <th></th>\n",
              "      <th>Channel</th>\n",
              "      <th>Region</th>\n",
              "      <th>Fresh</th>\n",
              "      <th>Milk</th>\n",
              "      <th>Grocery</th>\n",
              "      <th>Frozen</th>\n",
              "      <th>Detergents_Paper</th>\n",
              "      <th>Delicassen</th>\n",
              "    </tr>\n",
              "  </thead>\n",
              "  <tbody>\n",
              "    <tr>\n",
              "      <th>0</th>\n",
              "      <td>2</td>\n",
              "      <td>3</td>\n",
              "      <td>12669</td>\n",
              "      <td>9656</td>\n",
              "      <td>7561</td>\n",
              "      <td>214</td>\n",
              "      <td>2674</td>\n",
              "      <td>1338</td>\n",
              "    </tr>\n",
              "    <tr>\n",
              "      <th>1</th>\n",
              "      <td>2</td>\n",
              "      <td>3</td>\n",
              "      <td>7057</td>\n",
              "      <td>9810</td>\n",
              "      <td>9568</td>\n",
              "      <td>1762</td>\n",
              "      <td>3293</td>\n",
              "      <td>1776</td>\n",
              "    </tr>\n",
              "    <tr>\n",
              "      <th>2</th>\n",
              "      <td>2</td>\n",
              "      <td>3</td>\n",
              "      <td>6353</td>\n",
              "      <td>8808</td>\n",
              "      <td>7684</td>\n",
              "      <td>2405</td>\n",
              "      <td>3516</td>\n",
              "      <td>7844</td>\n",
              "    </tr>\n",
              "    <tr>\n",
              "      <th>3</th>\n",
              "      <td>1</td>\n",
              "      <td>3</td>\n",
              "      <td>13265</td>\n",
              "      <td>1196</td>\n",
              "      <td>4221</td>\n",
              "      <td>6404</td>\n",
              "      <td>507</td>\n",
              "      <td>1788</td>\n",
              "    </tr>\n",
              "    <tr>\n",
              "      <th>4</th>\n",
              "      <td>2</td>\n",
              "      <td>3</td>\n",
              "      <td>22615</td>\n",
              "      <td>5410</td>\n",
              "      <td>7198</td>\n",
              "      <td>3915</td>\n",
              "      <td>1777</td>\n",
              "      <td>5185</td>\n",
              "    </tr>\n",
              "    <tr>\n",
              "      <th>5</th>\n",
              "      <td>2</td>\n",
              "      <td>3</td>\n",
              "      <td>9413</td>\n",
              "      <td>8259</td>\n",
              "      <td>5126</td>\n",
              "      <td>666</td>\n",
              "      <td>1795</td>\n",
              "      <td>1451</td>\n",
              "    </tr>\n",
              "    <tr>\n",
              "      <th>6</th>\n",
              "      <td>2</td>\n",
              "      <td>3</td>\n",
              "      <td>12126</td>\n",
              "      <td>3199</td>\n",
              "      <td>6975</td>\n",
              "      <td>480</td>\n",
              "      <td>3140</td>\n",
              "      <td>545</td>\n",
              "    </tr>\n",
              "    <tr>\n",
              "      <th>7</th>\n",
              "      <td>2</td>\n",
              "      <td>3</td>\n",
              "      <td>7579</td>\n",
              "      <td>4956</td>\n",
              "      <td>9426</td>\n",
              "      <td>1669</td>\n",
              "      <td>3321</td>\n",
              "      <td>2566</td>\n",
              "    </tr>\n",
              "    <tr>\n",
              "      <th>8</th>\n",
              "      <td>1</td>\n",
              "      <td>3</td>\n",
              "      <td>5963</td>\n",
              "      <td>3648</td>\n",
              "      <td>6192</td>\n",
              "      <td>425</td>\n",
              "      <td>1716</td>\n",
              "      <td>750</td>\n",
              "    </tr>\n",
              "    <tr>\n",
              "      <th>9</th>\n",
              "      <td>2</td>\n",
              "      <td>3</td>\n",
              "      <td>6006</td>\n",
              "      <td>11093</td>\n",
              "      <td>18881</td>\n",
              "      <td>1159</td>\n",
              "      <td>7425</td>\n",
              "      <td>2098</td>\n",
              "    </tr>\n",
              "  </tbody>\n",
              "</table>\n",
              "</div>"
            ],
            "text/plain": [
              "   Channel  Region  Fresh   Milk  Grocery  Frozen  Detergents_Paper  Delicassen\n",
              "0        2       3  12669   9656     7561     214              2674        1338\n",
              "1        2       3   7057   9810     9568    1762              3293        1776\n",
              "2        2       3   6353   8808     7684    2405              3516        7844\n",
              "3        1       3  13265   1196     4221    6404               507        1788\n",
              "4        2       3  22615   5410     7198    3915              1777        5185\n",
              "5        2       3   9413   8259     5126     666              1795        1451\n",
              "6        2       3  12126   3199     6975     480              3140         545\n",
              "7        2       3   7579   4956     9426    1669              3321        2566\n",
              "8        1       3   5963   3648     6192     425              1716         750\n",
              "9        2       3   6006  11093    18881    1159              7425        2098"
            ]
          },
          "metadata": {
            "tags": []
          },
          "execution_count": 115
        }
      ]
    },
    {
      "cell_type": "markdown",
      "metadata": {
        "id": "BjElmJ0wNms0",
        "colab_type": "text"
      },
      "source": [
        "Setting x and y values"
      ]
    },
    {
      "cell_type": "code",
      "metadata": {
        "id": "RfBfk5WPuG1H",
        "colab_type": "code",
        "colab": {}
      },
      "source": [
        "x = dataset.iloc[:,2:8].values\n",
        "y = dataset.iloc[:,[0,1]].values"
      ],
      "execution_count": 0,
      "outputs": []
    },
    {
      "cell_type": "code",
      "metadata": {
        "id": "CBL1EqZuuUIB",
        "colab_type": "code",
        "colab": {
          "base_uri": "https://localhost:8080/",
          "height": 139
        },
        "outputId": "75305e7f-eb43-40a8-dcdf-cc6bdd2d0bf5"
      },
      "source": [
        "x"
      ],
      "execution_count": 117,
      "outputs": [
        {
          "output_type": "execute_result",
          "data": {
            "text/plain": [
              "array([[12669,  9656,  7561,   214,  2674,  1338],\n",
              "       [ 7057,  9810,  9568,  1762,  3293,  1776],\n",
              "       [ 6353,  8808,  7684,  2405,  3516,  7844],\n",
              "       ...,\n",
              "       [14531, 15488, 30243,   437, 14841,  1867],\n",
              "       [10290,  1981,  2232,  1038,   168,  2125],\n",
              "       [ 2787,  1698,  2510,    65,   477,    52]])"
            ]
          },
          "metadata": {
            "tags": []
          },
          "execution_count": 117
        }
      ]
    },
    {
      "cell_type": "code",
      "metadata": {
        "id": "v2hQ1Vx_uYFS",
        "colab_type": "code",
        "colab": {
          "base_uri": "https://localhost:8080/",
          "height": 1000
        },
        "outputId": "1a2de680-7ada-4693-e17d-a61bf0e31bc6"
      },
      "source": [
        "y"
      ],
      "execution_count": 118,
      "outputs": [
        {
          "output_type": "execute_result",
          "data": {
            "text/plain": [
              "array([[2, 3],\n",
              "       [2, 3],\n",
              "       [2, 3],\n",
              "       [1, 3],\n",
              "       [2, 3],\n",
              "       [2, 3],\n",
              "       [2, 3],\n",
              "       [2, 3],\n",
              "       [1, 3],\n",
              "       [2, 3],\n",
              "       [2, 3],\n",
              "       [2, 3],\n",
              "       [2, 3],\n",
              "       [2, 3],\n",
              "       [2, 3],\n",
              "       [1, 3],\n",
              "       [2, 3],\n",
              "       [1, 3],\n",
              "       [2, 3],\n",
              "       [1, 3],\n",
              "       [2, 3],\n",
              "       [1, 3],\n",
              "       [1, 3],\n",
              "       [2, 3],\n",
              "       [2, 3],\n",
              "       [2, 3],\n",
              "       [1, 3],\n",
              "       [1, 3],\n",
              "       [2, 3],\n",
              "       [1, 3],\n",
              "       [1, 3],\n",
              "       [1, 3],\n",
              "       [1, 3],\n",
              "       [1, 3],\n",
              "       [1, 3],\n",
              "       [2, 3],\n",
              "       [1, 3],\n",
              "       [2, 3],\n",
              "       [2, 3],\n",
              "       [1, 3],\n",
              "       [1, 3],\n",
              "       [1, 3],\n",
              "       [2, 3],\n",
              "       [2, 3],\n",
              "       [2, 3],\n",
              "       [2, 3],\n",
              "       [2, 3],\n",
              "       [2, 3],\n",
              "       [2, 3],\n",
              "       [2, 3],\n",
              "       [1, 3],\n",
              "       [1, 3],\n",
              "       [2, 3],\n",
              "       [2, 3],\n",
              "       [1, 3],\n",
              "       [1, 3],\n",
              "       [2, 3],\n",
              "       [2, 3],\n",
              "       [1, 3],\n",
              "       [1, 3],\n",
              "       [2, 3],\n",
              "       [2, 3],\n",
              "       [2, 3],\n",
              "       [2, 3],\n",
              "       [1, 3],\n",
              "       [2, 3],\n",
              "       [1, 3],\n",
              "       [2, 3],\n",
              "       [1, 3],\n",
              "       [1, 3],\n",
              "       [1, 3],\n",
              "       [1, 3],\n",
              "       [1, 3],\n",
              "       [2, 3],\n",
              "       [2, 3],\n",
              "       [1, 3],\n",
              "       [1, 3],\n",
              "       [2, 3],\n",
              "       [1, 3],\n",
              "       [1, 3],\n",
              "       [1, 3],\n",
              "       [2, 3],\n",
              "       [2, 3],\n",
              "       [1, 3],\n",
              "       [2, 3],\n",
              "       [2, 3],\n",
              "       [2, 3],\n",
              "       [1, 3],\n",
              "       [1, 3],\n",
              "       [1, 3],\n",
              "       [1, 3],\n",
              "       [1, 3],\n",
              "       [2, 3],\n",
              "       [1, 3],\n",
              "       [2, 3],\n",
              "       [1, 3],\n",
              "       [2, 3],\n",
              "       [1, 3],\n",
              "       [1, 3],\n",
              "       [1, 3],\n",
              "       [2, 3],\n",
              "       [2, 3],\n",
              "       [2, 3],\n",
              "       [1, 3],\n",
              "       [1, 3],\n",
              "       [1, 3],\n",
              "       [2, 3],\n",
              "       [2, 3],\n",
              "       [2, 3],\n",
              "       [2, 3],\n",
              "       [1, 3],\n",
              "       [2, 3],\n",
              "       [1, 3],\n",
              "       [1, 3],\n",
              "       [1, 3],\n",
              "       [1, 3],\n",
              "       [1, 3],\n",
              "       [1, 3],\n",
              "       [1, 3],\n",
              "       [1, 3],\n",
              "       [1, 3],\n",
              "       [1, 3],\n",
              "       [1, 3],\n",
              "       [2, 3],\n",
              "       [1, 3],\n",
              "       [1, 3],\n",
              "       [1, 3],\n",
              "       [2, 3],\n",
              "       [1, 3],\n",
              "       [1, 3],\n",
              "       [1, 3],\n",
              "       [1, 3],\n",
              "       [1, 3],\n",
              "       [1, 3],\n",
              "       [1, 3],\n",
              "       [1, 3],\n",
              "       [1, 3],\n",
              "       [1, 3],\n",
              "       [1, 3],\n",
              "       [1, 3],\n",
              "       [1, 3],\n",
              "       [1, 3],\n",
              "       [1, 3],\n",
              "       [1, 3],\n",
              "       [1, 3],\n",
              "       [2, 3],\n",
              "       [1, 3],\n",
              "       [1, 3],\n",
              "       [1, 3],\n",
              "       [1, 3],\n",
              "       [1, 3],\n",
              "       [1, 3],\n",
              "       [1, 3],\n",
              "       [1, 3],\n",
              "       [1, 3],\n",
              "       [2, 3],\n",
              "       [2, 3],\n",
              "       [1, 3],\n",
              "       [2, 3],\n",
              "       [2, 3],\n",
              "       [2, 3],\n",
              "       [1, 3],\n",
              "       [1, 3],\n",
              "       [2, 3],\n",
              "       [2, 3],\n",
              "       [2, 3],\n",
              "       [2, 3],\n",
              "       [1, 3],\n",
              "       [1, 3],\n",
              "       [1, 3],\n",
              "       [2, 3],\n",
              "       [2, 3],\n",
              "       [1, 3],\n",
              "       [2, 3],\n",
              "       [1, 3],\n",
              "       [2, 3],\n",
              "       [1, 3],\n",
              "       [1, 3],\n",
              "       [1, 3],\n",
              "       [1, 3],\n",
              "       [1, 3],\n",
              "       [1, 3],\n",
              "       [1, 3],\n",
              "       [1, 3],\n",
              "       [1, 3],\n",
              "       [1, 3],\n",
              "       [1, 3],\n",
              "       [1, 3],\n",
              "       [2, 3],\n",
              "       [2, 3],\n",
              "       [1, 3],\n",
              "       [1, 3],\n",
              "       [1, 3],\n",
              "       [2, 3],\n",
              "       [1, 3],\n",
              "       [1, 3],\n",
              "       [1, 1],\n",
              "       [2, 1],\n",
              "       [1, 1],\n",
              "       [1, 1],\n",
              "       [2, 1],\n",
              "       [2, 1],\n",
              "       [1, 1],\n",
              "       [1, 1],\n",
              "       [1, 1],\n",
              "       [2, 1],\n",
              "       [1, 1],\n",
              "       [2, 1],\n",
              "       [1, 1],\n",
              "       [2, 1],\n",
              "       [1, 1],\n",
              "       [2, 1],\n",
              "       [1, 1],\n",
              "       [1, 1],\n",
              "       [2, 1],\n",
              "       [1, 1],\n",
              "       [2, 1],\n",
              "       [1, 1],\n",
              "       [2, 1],\n",
              "       [1, 1],\n",
              "       [1, 1],\n",
              "       [1, 1],\n",
              "       [1, 1],\n",
              "       [2, 1],\n",
              "       [1, 1],\n",
              "       [1, 1],\n",
              "       [2, 1],\n",
              "       [1, 1],\n",
              "       [1, 1],\n",
              "       [1, 1],\n",
              "       [2, 1],\n",
              "       [1, 1],\n",
              "       [1, 1],\n",
              "       [1, 1],\n",
              "       [1, 1],\n",
              "       [1, 1],\n",
              "       [1, 1],\n",
              "       [1, 1],\n",
              "       [1, 1],\n",
              "       [1, 1],\n",
              "       [1, 1],\n",
              "       [1, 1],\n",
              "       [1, 1],\n",
              "       [1, 1],\n",
              "       [1, 1],\n",
              "       [2, 1],\n",
              "       [1, 1],\n",
              "       [1, 1],\n",
              "       [1, 1],\n",
              "       [1, 1],\n",
              "       [1, 1],\n",
              "       [2, 1],\n",
              "       [1, 1],\n",
              "       [1, 1],\n",
              "       [1, 1],\n",
              "       [1, 1],\n",
              "       [1, 1],\n",
              "       [1, 1],\n",
              "       [1, 1],\n",
              "       [1, 1],\n",
              "       [1, 1],\n",
              "       [1, 1],\n",
              "       [1, 1],\n",
              "       [1, 1],\n",
              "       [2, 1],\n",
              "       [1, 1],\n",
              "       [2, 1],\n",
              "       [1, 1],\n",
              "       [2, 1],\n",
              "       [1, 1],\n",
              "       [1, 1],\n",
              "       [1, 1],\n",
              "       [1, 1],\n",
              "       [1, 3],\n",
              "       [1, 3],\n",
              "       [1, 3],\n",
              "       [1, 3],\n",
              "       [1, 3],\n",
              "       [1, 3],\n",
              "       [2, 3],\n",
              "       [1, 3],\n",
              "       [2, 3],\n",
              "       [1, 3],\n",
              "       [1, 3],\n",
              "       [1, 3],\n",
              "       [1, 3],\n",
              "       [1, 3],\n",
              "       [1, 3],\n",
              "       [1, 3],\n",
              "       [1, 3],\n",
              "       [1, 3],\n",
              "       [1, 3],\n",
              "       [1, 3],\n",
              "       [2, 2],\n",
              "       [1, 2],\n",
              "       [2, 2],\n",
              "       [1, 2],\n",
              "       [2, 2],\n",
              "       [2, 2],\n",
              "       [1, 2],\n",
              "       [2, 2],\n",
              "       [2, 2],\n",
              "       [2, 2],\n",
              "       [2, 2],\n",
              "       [2, 2],\n",
              "       [2, 2],\n",
              "       [2, 2],\n",
              "       [1, 2],\n",
              "       [1, 2],\n",
              "       [2, 2],\n",
              "       [1, 2],\n",
              "       [1, 2],\n",
              "       [2, 2],\n",
              "       [1, 2],\n",
              "       [1, 2],\n",
              "       [2, 2],\n",
              "       [1, 2],\n",
              "       [1, 2],\n",
              "       [1, 2],\n",
              "       [2, 2],\n",
              "       [1, 2],\n",
              "       [1, 2],\n",
              "       [1, 2],\n",
              "       [1, 2],\n",
              "       [1, 2],\n",
              "       [1, 2],\n",
              "       [1, 2],\n",
              "       [1, 2],\n",
              "       [1, 2],\n",
              "       [1, 2],\n",
              "       [1, 2],\n",
              "       [2, 2],\n",
              "       [1, 2],\n",
              "       [2, 2],\n",
              "       [2, 2],\n",
              "       [2, 2],\n",
              "       [1, 2],\n",
              "       [1, 2],\n",
              "       [1, 2],\n",
              "       [1, 2],\n",
              "       [2, 3],\n",
              "       [2, 3],\n",
              "       [1, 3],\n",
              "       [2, 3],\n",
              "       [1, 3],\n",
              "       [1, 3],\n",
              "       [2, 3],\n",
              "       [2, 3],\n",
              "       [1, 3],\n",
              "       [2, 3],\n",
              "       [1, 3],\n",
              "       [2, 3],\n",
              "       [1, 3],\n",
              "       [2, 3],\n",
              "       [1, 3],\n",
              "       [1, 3],\n",
              "       [1, 3],\n",
              "       [2, 3],\n",
              "       [1, 3],\n",
              "       [1, 3],\n",
              "       [1, 3],\n",
              "       [1, 3],\n",
              "       [1, 3],\n",
              "       [1, 3],\n",
              "       [1, 3],\n",
              "       [2, 3],\n",
              "       [1, 3],\n",
              "       [1, 3],\n",
              "       [1, 3],\n",
              "       [1, 3],\n",
              "       [2, 3],\n",
              "       [1, 3],\n",
              "       [1, 3],\n",
              "       [2, 3],\n",
              "       [1, 3],\n",
              "       [1, 3],\n",
              "       [2, 3],\n",
              "       [1, 3],\n",
              "       [1, 3],\n",
              "       [2, 3],\n",
              "       [1, 3],\n",
              "       [1, 3],\n",
              "       [1, 3],\n",
              "       [1, 3],\n",
              "       [1, 3],\n",
              "       [1, 3],\n",
              "       [1, 3],\n",
              "       [1, 3],\n",
              "       [1, 3],\n",
              "       [1, 3],\n",
              "       [1, 3],\n",
              "       [1, 3],\n",
              "       [1, 3],\n",
              "       [1, 3],\n",
              "       [1, 3],\n",
              "       [1, 3],\n",
              "       [2, 3],\n",
              "       [1, 3],\n",
              "       [1, 3],\n",
              "       [1, 3],\n",
              "       [1, 3],\n",
              "       [1, 3],\n",
              "       [1, 3],\n",
              "       [1, 3],\n",
              "       [1, 3],\n",
              "       [1, 3],\n",
              "       [1, 3],\n",
              "       [2, 3],\n",
              "       [2, 3],\n",
              "       [1, 3],\n",
              "       [1, 3],\n",
              "       [1, 3],\n",
              "       [1, 3],\n",
              "       [1, 3],\n",
              "       [1, 3],\n",
              "       [2, 3],\n",
              "       [2, 3],\n",
              "       [1, 3],\n",
              "       [2, 3],\n",
              "       [1, 3],\n",
              "       [1, 3],\n",
              "       [2, 3],\n",
              "       [1, 3],\n",
              "       [2, 3],\n",
              "       [2, 3],\n",
              "       [1, 3],\n",
              "       [1, 3],\n",
              "       [1, 3],\n",
              "       [1, 3],\n",
              "       [1, 3],\n",
              "       [1, 3],\n",
              "       [1, 3],\n",
              "       [1, 3],\n",
              "       [1, 3],\n",
              "       [1, 3],\n",
              "       [1, 3],\n",
              "       [1, 3],\n",
              "       [2, 3],\n",
              "       [1, 3],\n",
              "       [1, 3]])"
            ]
          },
          "metadata": {
            "tags": []
          },
          "execution_count": 118
        }
      ]
    },
    {
      "cell_type": "markdown",
      "metadata": {
        "id": "WNhCVk0Ej6FQ",
        "colab_type": "text"
      },
      "source": [
        "Splitting into test and train data"
      ]
    },
    {
      "cell_type": "code",
      "metadata": {
        "id": "JCXA_gi2j3jI",
        "colab_type": "code",
        "colab": {}
      },
      "source": [
        "from sklearn.model_selection import train_test_split\n",
        "\n",
        "x_train, x_test, y_train, y_test = train_test_split(x, y, test_size=0.2)"
      ],
      "execution_count": 0,
      "outputs": []
    },
    {
      "cell_type": "markdown",
      "metadata": {
        "id": "bNqIcoIpkgt0",
        "colab_type": "text"
      },
      "source": [
        "To know more about the dataset columns"
      ]
    },
    {
      "cell_type": "code",
      "metadata": {
        "id": "sInBBgHZkKr5",
        "colab_type": "code",
        "colab": {
          "base_uri": "https://localhost:8080/",
          "height": 69
        },
        "outputId": "9194f7f3-8fe2-441a-c447-534233c6fc42"
      },
      "source": [
        "dataset.columns"
      ],
      "execution_count": 120,
      "outputs": [
        {
          "output_type": "execute_result",
          "data": {
            "text/plain": [
              "Index(['Channel', 'Region', 'Fresh', 'Milk', 'Grocery', 'Frozen',\n",
              "       'Detergents_Paper', 'Delicassen'],\n",
              "      dtype='object')"
            ]
          },
          "metadata": {
            "tags": []
          },
          "execution_count": 120
        }
      ]
    },
    {
      "cell_type": "code",
      "metadata": {
        "id": "rn5jirXRkYhE",
        "colab_type": "code",
        "colab": {
          "base_uri": "https://localhost:8080/",
          "height": 52
        },
        "outputId": "eee12a32-addb-4496-9086-c120a3d6cc90"
      },
      "source": [
        "dataset.columns.values"
      ],
      "execution_count": 121,
      "outputs": [
        {
          "output_type": "execute_result",
          "data": {
            "text/plain": [
              "array(['Channel', 'Region', 'Fresh', 'Milk', 'Grocery', 'Frozen',\n",
              "       'Detergents_Paper', 'Delicassen'], dtype=object)"
            ]
          },
          "metadata": {
            "tags": []
          },
          "execution_count": 121
        }
      ]
    },
    {
      "cell_type": "code",
      "metadata": {
        "id": "yOkzMotMkoxD",
        "colab_type": "code",
        "colab": {
          "base_uri": "https://localhost:8080/",
          "height": 202
        },
        "outputId": "2535232a-c91d-479e-ff96-e51ef0ece4fc"
      },
      "source": [
        "# checks if any of the first 5 rows of the train dataframe .isna()\n",
        "dataset.isna().head()"
      ],
      "execution_count": 122,
      "outputs": [
        {
          "output_type": "execute_result",
          "data": {
            "text/html": [
              "<div>\n",
              "<style scoped>\n",
              "    .dataframe tbody tr th:only-of-type {\n",
              "        vertical-align: middle;\n",
              "    }\n",
              "\n",
              "    .dataframe tbody tr th {\n",
              "        vertical-align: top;\n",
              "    }\n",
              "\n",
              "    .dataframe thead th {\n",
              "        text-align: right;\n",
              "    }\n",
              "</style>\n",
              "<table border=\"1\" class=\"dataframe\">\n",
              "  <thead>\n",
              "    <tr style=\"text-align: right;\">\n",
              "      <th></th>\n",
              "      <th>Channel</th>\n",
              "      <th>Region</th>\n",
              "      <th>Fresh</th>\n",
              "      <th>Milk</th>\n",
              "      <th>Grocery</th>\n",
              "      <th>Frozen</th>\n",
              "      <th>Detergents_Paper</th>\n",
              "      <th>Delicassen</th>\n",
              "    </tr>\n",
              "  </thead>\n",
              "  <tbody>\n",
              "    <tr>\n",
              "      <th>0</th>\n",
              "      <td>False</td>\n",
              "      <td>False</td>\n",
              "      <td>False</td>\n",
              "      <td>False</td>\n",
              "      <td>False</td>\n",
              "      <td>False</td>\n",
              "      <td>False</td>\n",
              "      <td>False</td>\n",
              "    </tr>\n",
              "    <tr>\n",
              "      <th>1</th>\n",
              "      <td>False</td>\n",
              "      <td>False</td>\n",
              "      <td>False</td>\n",
              "      <td>False</td>\n",
              "      <td>False</td>\n",
              "      <td>False</td>\n",
              "      <td>False</td>\n",
              "      <td>False</td>\n",
              "    </tr>\n",
              "    <tr>\n",
              "      <th>2</th>\n",
              "      <td>False</td>\n",
              "      <td>False</td>\n",
              "      <td>False</td>\n",
              "      <td>False</td>\n",
              "      <td>False</td>\n",
              "      <td>False</td>\n",
              "      <td>False</td>\n",
              "      <td>False</td>\n",
              "    </tr>\n",
              "    <tr>\n",
              "      <th>3</th>\n",
              "      <td>False</td>\n",
              "      <td>False</td>\n",
              "      <td>False</td>\n",
              "      <td>False</td>\n",
              "      <td>False</td>\n",
              "      <td>False</td>\n",
              "      <td>False</td>\n",
              "      <td>False</td>\n",
              "    </tr>\n",
              "    <tr>\n",
              "      <th>4</th>\n",
              "      <td>False</td>\n",
              "      <td>False</td>\n",
              "      <td>False</td>\n",
              "      <td>False</td>\n",
              "      <td>False</td>\n",
              "      <td>False</td>\n",
              "      <td>False</td>\n",
              "      <td>False</td>\n",
              "    </tr>\n",
              "  </tbody>\n",
              "</table>\n",
              "</div>"
            ],
            "text/plain": [
              "   Channel  Region  Fresh   Milk  Grocery  Frozen  Detergents_Paper  Delicassen\n",
              "0    False   False  False  False    False   False             False       False\n",
              "1    False   False  False  False    False   False             False       False\n",
              "2    False   False  False  False    False   False             False       False\n",
              "3    False   False  False  False    False   False             False       False\n",
              "4    False   False  False  False    False   False             False       False"
            ]
          },
          "metadata": {
            "tags": []
          },
          "execution_count": 122
        }
      ]
    },
    {
      "cell_type": "code",
      "metadata": {
        "id": "oXhrnOYakzF_",
        "colab_type": "code",
        "colab": {
          "base_uri": "https://localhost:8080/",
          "height": 173
        },
        "outputId": "710c6627-428c-4caf-e6f8-1e58e627ae23"
      },
      "source": [
        "dataset.isna().sum()"
      ],
      "execution_count": 123,
      "outputs": [
        {
          "output_type": "execute_result",
          "data": {
            "text/plain": [
              "Channel             0\n",
              "Region              0\n",
              "Fresh               0\n",
              "Milk                0\n",
              "Grocery             0\n",
              "Frozen              0\n",
              "Detergents_Paper    0\n",
              "Delicassen          0\n",
              "dtype: int64"
            ]
          },
          "metadata": {
            "tags": []
          },
          "execution_count": 123
        }
      ]
    },
    {
      "cell_type": "code",
      "metadata": {
        "id": "WBHWwL41lafV",
        "colab_type": "code",
        "colab": {
          "base_uri": "https://localhost:8080/",
          "height": 233
        },
        "outputId": "737d52f4-d43c-4163-c32f-c160b87dffae"
      },
      "source": [
        "# Find the max values of each category for each channel-region combo\n",
        "dataset[[\"Channel\", \"Region\", \"Fresh\", \"Milk\", \"Grocery\", \"Frozen\", \"Detergents_Paper\", \"Delicassen\"]].groupby(['Channel', 'Region'], as_index=False).max().sort_values(by='Channel', ascending=False)"
      ],
      "execution_count": 124,
      "outputs": [
        {
          "output_type": "execute_result",
          "data": {
            "text/html": [
              "<div>\n",
              "<style scoped>\n",
              "    .dataframe tbody tr th:only-of-type {\n",
              "        vertical-align: middle;\n",
              "    }\n",
              "\n",
              "    .dataframe tbody tr th {\n",
              "        vertical-align: top;\n",
              "    }\n",
              "\n",
              "    .dataframe thead th {\n",
              "        text-align: right;\n",
              "    }\n",
              "</style>\n",
              "<table border=\"1\" class=\"dataframe\">\n",
              "  <thead>\n",
              "    <tr style=\"text-align: right;\">\n",
              "      <th></th>\n",
              "      <th>Channel</th>\n",
              "      <th>Region</th>\n",
              "      <th>Fresh</th>\n",
              "      <th>Milk</th>\n",
              "      <th>Grocery</th>\n",
              "      <th>Frozen</th>\n",
              "      <th>Detergents_Paper</th>\n",
              "      <th>Delicassen</th>\n",
              "    </tr>\n",
              "  </thead>\n",
              "  <tbody>\n",
              "    <tr>\n",
              "      <th>3</th>\n",
              "      <td>2</td>\n",
              "      <td>1</td>\n",
              "      <td>20782</td>\n",
              "      <td>28326</td>\n",
              "      <td>39694</td>\n",
              "      <td>8321</td>\n",
              "      <td>19410</td>\n",
              "      <td>6372</td>\n",
              "    </tr>\n",
              "    <tr>\n",
              "      <th>4</th>\n",
              "      <td>2</td>\n",
              "      <td>2</td>\n",
              "      <td>27082</td>\n",
              "      <td>25071</td>\n",
              "      <td>67298</td>\n",
              "      <td>11559</td>\n",
              "      <td>38102</td>\n",
              "      <td>3508</td>\n",
              "    </tr>\n",
              "    <tr>\n",
              "      <th>5</th>\n",
              "      <td>2</td>\n",
              "      <td>3</td>\n",
              "      <td>44466</td>\n",
              "      <td>73498</td>\n",
              "      <td>92780</td>\n",
              "      <td>8132</td>\n",
              "      <td>40827</td>\n",
              "      <td>16523</td>\n",
              "    </tr>\n",
              "    <tr>\n",
              "      <th>0</th>\n",
              "      <td>1</td>\n",
              "      <td>1</td>\n",
              "      <td>56083</td>\n",
              "      <td>23527</td>\n",
              "      <td>16966</td>\n",
              "      <td>18711</td>\n",
              "      <td>5828</td>\n",
              "      <td>6854</td>\n",
              "    </tr>\n",
              "    <tr>\n",
              "      <th>1</th>\n",
              "      <td>1</td>\n",
              "      <td>2</td>\n",
              "      <td>32717</td>\n",
              "      <td>16784</td>\n",
              "      <td>13626</td>\n",
              "      <td>60869</td>\n",
              "      <td>1679</td>\n",
              "      <td>5609</td>\n",
              "    </tr>\n",
              "    <tr>\n",
              "      <th>2</th>\n",
              "      <td>1</td>\n",
              "      <td>3</td>\n",
              "      <td>112151</td>\n",
              "      <td>43950</td>\n",
              "      <td>21042</td>\n",
              "      <td>36534</td>\n",
              "      <td>6907</td>\n",
              "      <td>47943</td>\n",
              "    </tr>\n",
              "  </tbody>\n",
              "</table>\n",
              "</div>"
            ],
            "text/plain": [
              "   Channel  Region   Fresh  ...  Frozen  Detergents_Paper  Delicassen\n",
              "3        2       1   20782  ...    8321             19410        6372\n",
              "4        2       2   27082  ...   11559             38102        3508\n",
              "5        2       3   44466  ...    8132             40827       16523\n",
              "0        1       1   56083  ...   18711              5828        6854\n",
              "1        1       2   32717  ...   60869              1679        5609\n",
              "2        1       3  112151  ...   36534              6907       47943\n",
              "\n",
              "[6 rows x 8 columns]"
            ]
          },
          "metadata": {
            "tags": []
          },
          "execution_count": 124
        }
      ]
    },
    {
      "cell_type": "code",
      "metadata": {
        "id": "sRk47VMWmcLz",
        "colab_type": "code",
        "colab": {
          "base_uri": "https://localhost:8080/",
          "height": 243
        },
        "outputId": "d960fcc4-9750-4de8-d216-9b140bc5d270"
      },
      "source": [
        "#Plot Fresh vs Channel (Faceted)\n",
        "g = sns.FacetGrid(dataset, col='Channel')\n",
        "g.map(plt.hist, 'Fresh', bins=20)"
      ],
      "execution_count": 72,
      "outputs": [
        {
          "output_type": "execute_result",
          "data": {
            "text/plain": [
              "<seaborn.axisgrid.FacetGrid at 0x7f8ddfaaccc0>"
            ]
          },
          "metadata": {
            "tags": []
          },
          "execution_count": 72
        },
        {
          "output_type": "display_data",
          "data": {
            "image/png": "[encoded data removed]",
            "text/plain": [
              "<Figure size 432x216 with 2 Axes>"
            ]
          },
          "metadata": {
            "tags": [],
            "needs_background": "light"
          }
        }
      ]
    },
    {
      "cell_type": "code",
      "metadata": {
        "id": "RZQFmsYem9BW",
        "colab_type": "code",
        "colab": {
          "base_uri": "https://localhost:8080/",
          "height": 540
        },
        "outputId": "58fa8d79-debd-4125-8f2d-617f78e7e3c6"
      },
      "source": [
        "#Plot Fresh vs Channel (Faceted with Region)\n",
        "grid = sns.FacetGrid(dataset, col='Channel', row='Region', size=2.2, aspect=1.6)\n",
        "grid.map(plt.hist, 'Fresh', alpha=.5, bins=20)\n",
        "grid.add_legend();"
      ],
      "execution_count": 73,
      "outputs": [
        {
          "output_type": "stream",
          "text": [
            "/usr/local/lib/python3.6/dist-packages/seaborn/axisgrid.py:243: UserWarning: The `size` parameter has been renamed to `height`; please update your code.\n",
            "  warnings.warn(msg, UserWarning)\n"
          ],
          "name": "stderr"
        },
        {
          "output_type": "display_data",
          "data": {
            "image/png": "[encoded data removed]",
            "text/plain": [
              "<Figure size 515.68x475.2 with 6 Axes>"
            ]
          },
          "metadata": {
            "tags": [],
            "needs_background": "light"
          }
        }
      ]
    },
    {
      "cell_type": "markdown",
      "metadata": {
        "id": "KOvUTZk0u9iA",
        "colab_type": "text"
      },
      "source": [
        "# K-MEANS CLUSTERING"
      ]
    },
    {
      "cell_type": "code",
      "metadata": {
        "id": "RRaEuXiNulER",
        "colab_type": "code",
        "colab": {
          "base_uri": "https://localhost:8080/",
          "height": 69
        },
        "outputId": "52d44058-7dcb-4105-c980-223f258d78b6"
      },
      "source": [
        "k_means = KMeans(n_clusters=2)  #To cluster based on channel 1 or 2\n",
        "#Fit the training dataset x \n",
        "k_means.fit(x_train)"
      ],
      "execution_count": 150,
      "outputs": [
        {
          "output_type": "execute_result",
          "data": {
            "text/plain": [
              "KMeans(algorithm='auto', copy_x=True, init='k-means++', max_iter=300,\n",
              "       n_clusters=2, n_init=10, n_jobs=None, precompute_distances='auto',\n",
              "       random_state=None, tol=0.0001, verbose=0)"
            ]
          },
          "metadata": {
            "tags": []
          },
          "execution_count": 150
        }
      ]
    },
    {
      "cell_type": "code",
      "metadata": {
        "id": "b6a1RZYQ3Ddv",
        "colab_type": "code",
        "colab": {
          "base_uri": "https://localhost:8080/",
          "height": 35
        },
        "outputId": "bd0b4881-2dd6-439b-9450-d50b26c60472"
      },
      "source": [
        "#run the model tracking correct predictions\n",
        "correct = 0.\n",
        "for i in range(len(x_train)):\n",
        "    predict_me = np.array(x_train[i].astype(float))\n",
        "    predict_me = predict_me.reshape(-1, len(predict_me))\n",
        "    prediction = k_means.predict(predict_me)\n",
        "    if prediction[0] == y_train[i].all():\n",
        "        correct += 1\n",
        "\n",
        "print(correct/len(x_train))"
      ],
      "execution_count": 151,
      "outputs": [
        {
          "output_type": "stream",
          "text": [
            "0.1534090909090909\n"
          ],
          "name": "stdout"
        }
      ]
    },
    {
      "cell_type": "code",
      "metadata": {
        "id": "U2cp1JzAoyPs",
        "colab_type": "code",
        "colab": {
          "base_uri": "https://localhost:8080/",
          "height": 69
        },
        "outputId": "d022d466-272f-4341-c2b6-aea5b5173206"
      },
      "source": [
        "#Double the iterations\n",
        "k_means = k_means = KMeans(n_clusters=2, max_iter=600, algorithm = 'auto')\n",
        "k_means.fit(x_train)"
      ],
      "execution_count": 152,
      "outputs": [
        {
          "output_type": "execute_result",
          "data": {
            "text/plain": [
              "KMeans(algorithm='auto', copy_x=True, init='k-means++', max_iter=600,\n",
              "       n_clusters=2, n_init=10, n_jobs=None, precompute_distances='auto',\n",
              "       random_state=None, tol=0.0001, verbose=0)"
            ]
          },
          "metadata": {
            "tags": []
          },
          "execution_count": 152
        }
      ]
    },
    {
      "cell_type": "code",
      "metadata": {
        "id": "9z8ObR5UpCUw",
        "colab_type": "code",
        "colab": {
          "base_uri": "https://localhost:8080/",
          "height": 35
        },
        "outputId": "5e8c8a5a-c4cb-4293-ebbb-013ec0b95ee7"
      },
      "source": [
        "correct = 0.\n",
        "for i in range(len(x_train)):\n",
        "    predict_me = np.array(x_train[i].astype(float))\n",
        "    predict_me = predict_me.reshape(-1, len(predict_me))\n",
        "    prediction = k_means.predict(predict_me)\n",
        "    if prediction[0] == y_train[i].all():\n",
        "        correct += 1\n",
        "\n",
        "print(correct/len(x_train))"
      ],
      "execution_count": 153,
      "outputs": [
        {
          "output_type": "stream",
          "text": [
            "0.1534090909090909\n"
          ],
          "name": "stdout"
        }
      ]
    },
    {
      "cell_type": "markdown",
      "metadata": {
        "id": "MOAbioaAsEqz",
        "colab_type": "text"
      },
      "source": [
        "# Normalizing to get higher accuracy"
      ]
    },
    {
      "cell_type": "code",
      "metadata": {
        "id": "xpKCxHwQpuJF",
        "colab_type": "code",
        "colab": {}
      },
      "source": [
        "# Normalize parameters in training dataframe X\n",
        "scaler = MinMaxScaler()\n",
        "X_scaled = scaler.fit_transform(x_train)"
      ],
      "execution_count": 0,
      "outputs": []
    },
    {
      "cell_type": "code",
      "metadata": {
        "id": "8K40M39Dpy74",
        "colab_type": "code",
        "colab": {
          "base_uri": "https://localhost:8080/",
          "height": 69
        },
        "outputId": "6c568ace-fd32-446c-8ab0-454149c58f39"
      },
      "source": [
        "k_means.fit(X_scaled)"
      ],
      "execution_count": 154,
      "outputs": [
        {
          "output_type": "execute_result",
          "data": {
            "text/plain": [
              "KMeans(algorithm='auto', copy_x=True, init='k-means++', max_iter=600,\n",
              "       n_clusters=2, n_init=10, n_jobs=None, precompute_distances='auto',\n",
              "       random_state=None, tol=0.0001, verbose=0)"
            ]
          },
          "metadata": {
            "tags": []
          },
          "execution_count": 154
        }
      ]
    },
    {
      "cell_type": "code",
      "metadata": {
        "id": "NlBgEjpbqMWH",
        "colab_type": "code",
        "colab": {
          "base_uri": "https://localhost:8080/",
          "height": 69
        },
        "outputId": "1d83bf39-b406-4c2a-db63-ef6b0997d913"
      },
      "source": [
        "KMeans(algorithm='auto', copy_x=True, init='k-means++', max_iter=600,\n",
        "       n_clusters=2, n_init=10, n_jobs=1, precompute_distances='auto',\n",
        "       random_state=None, tol=0.0001, verbose=0)"
      ],
      "execution_count": 155,
      "outputs": [
        {
          "output_type": "execute_result",
          "data": {
            "text/plain": [
              "KMeans(algorithm='auto', copy_x=True, init='k-means++', max_iter=600,\n",
              "       n_clusters=2, n_init=10, n_jobs=1, precompute_distances='auto',\n",
              "       random_state=None, tol=0.0001, verbose=0)"
            ]
          },
          "metadata": {
            "tags": []
          },
          "execution_count": 155
        }
      ]
    },
    {
      "cell_type": "code",
      "metadata": {
        "id": "8oGPGQMlp65w",
        "colab_type": "code",
        "colab": {
          "base_uri": "https://localhost:8080/",
          "height": 35
        },
        "outputId": "97226786-4604-4bd5-b1e8-f6a367db822a"
      },
      "source": [
        "correct = 0.\n",
        "for i in range(len(x_train)):\n",
        "    predict_me = np.array(x_train[i].astype(float))\n",
        "    predict_me = predict_me.reshape(-1, len(predict_me))\n",
        "    prediction = k_means.predict(predict_me)\n",
        "    if prediction[0] == y_train[i].all():\n",
        "        correct += 1\n",
        "\n",
        "print(correct/len(x_train))"
      ],
      "execution_count": 156,
      "outputs": [
        {
          "output_type": "stream",
          "text": [
            "0.7159090909090909\n"
          ],
          "name": "stdout"
        }
      ]
    }
  ]
}